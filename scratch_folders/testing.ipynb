{
 "cells": [
  {
   "metadata": {
    "ExecuteTime": {
     "end_time": "2024-08-12T22:18:24.715620Z",
     "start_time": "2024-08-12T22:18:24.182209Z"
    }
   },
   "cell_type": "code",
   "source": [
    "from app.models import DimensionTags, Dimension\n",
    "from app import app, db\n",
    "import pandas as pd\n",
    "import numpy as np"
   ],
   "id": "f3ceb826547e352d",
   "outputs": [
    {
     "name": "stdout",
     "output_type": "stream",
     "text": [
      "sqlite:////Users/doug/Documents/pythonProjects/abacus/abacus.db\n"
     ]
    }
   ],
   "execution_count": 1
  },
  {
   "metadata": {
    "ExecuteTime": {
     "end_time": "2024-08-12T22:19:20.155745Z",
     "start_time": "2024-08-12T22:19:20.138138Z"
    }
   },
   "cell_type": "code",
   "source": [
    "tags = pd.read_csv('tags.csv')\n",
    "tags = tags.replace({np.nan: None})\n",
    "\n",
    "with app.app_context():\n",
    "  for id,tag in tags.iterrows():\n",
    "    db.session.add(\n",
    "      DimensionTags(\n",
    "        name=tag['name'],\n",
    "        primary_tag=tag['primary_tag'],\n",
    "        secondary_tag=tag['secondary_tag'],\n",
    "        data_group=tag['data_group'],\n",
    "      )\n",
    "    )\n",
    "  db.session.commit()\n",
    "\n",
    "    "
   ],
   "id": "45115f4043379eae",
   "outputs": [],
   "execution_count": 4
  },
  {
   "metadata": {
    "ExecuteTime": {
     "end_time": "2024-08-12T22:18:46.901203Z",
     "start_time": "2024-08-12T22:18:46.893336Z"
    }
   },
   "cell_type": "code",
   "source": [
    "with app.app_context():\n",
    "  db.drop_all()\n",
    "  db.create_all()\n",
    "  "
   ],
   "id": "18a7df7e0d1d769",
   "outputs": [],
   "execution_count": 3
  },
  {
   "metadata": {},
   "cell_type": "code",
   "outputs": [],
   "execution_count": null,
   "source": "",
   "id": "53b47fb597143a22"
  }
 ],
 "metadata": {
  "kernelspec": {
   "display_name": "Python 3",
   "language": "python",
   "name": "python3"
  },
  "language_info": {
   "codemirror_mode": {
    "name": "ipython",
    "version": 2
   },
   "file_extension": ".py",
   "mimetype": "text/x-python",
   "name": "python",
   "nbconvert_exporter": "python",
   "pygments_lexer": "ipython2",
   "version": "2.7.6"
  }
 },
 "nbformat": 4,
 "nbformat_minor": 5
}
