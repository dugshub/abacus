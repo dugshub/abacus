{
 "cells": [
  {
   "metadata": {
    "ExecuteTime": {
     "end_time": "2024-08-12T17:54:23.435196Z",
     "start_time": "2024-08-12T17:54:23.032334Z"
    }
   },
   "cell_type": "code",
   "source": [
    "from app import app\n",
    "\n",
    "fields = {\n",
    "  \"metrics\": [\n",
    "    {\n",
    "      \"name\": \"remittable_fee_revenue_local\",\n",
    "      \"label\": \"Remittable Fee Revenue Local\",\n",
    "      \"description\": \"The sum of fees collected that are included in the Display Price. This only accounts rentals with 'payment_status' = 'success' and 'reservation_status' = 'valid'.  Note: This metric is included within the GMV metric. If this is selected alongside GMV  you will be double counting revenue.      \",\n",
    "      \"type\": \"SIMPLE\",\n",
    "      \"config\": {\n",
    "        \"meta\": {\n",
    "          \"group\": \"Core\",\n",
    "          \"metric_type\": \"Operational Financial Metrics\",\n",
    "          \"metric_category\": \"Financial Metrics\"\n",
    "        }\n",
    "      }\n",
    "    },\n",
    "    {\n",
    "      \"name\": \"gov_local\",\n",
    "      \"label\": \"GOV Local\",\n",
    "      \"description\": \"The sum of checkout price including all fees. This only accounts rentals with 'payment_status' = 'success' and 'reservation_status' = 'valid'\",\n",
    "      \"type\": \"SIMPLE\",\n",
    "      \"config\": {\n",
    "        \"meta\": {\n",
    "          \"group\": \"Core\",\n",
    "          \"metric_type\": \"Operational Financial Metrics\",\n",
    "          \"metric_category\": \"Financial Metrics\"\n",
    "        }\n",
    "      }\n",
    "    }\n",
    "  ],\n",
    "  \"dimensions\": [\n",
    "    {\n",
    "      \"name\": \"renter__email\",\n",
    "      \"label\": \"Email\",\n",
    "      \"description\": \"Email address of the renter.\",\n",
    "      \"type\": \"CATEGORICAL\",\n",
    "      \"dimensionTags\": {\n",
    "        \"data_group\": \"core\",\n",
    "        \"name\": \"renter__email\",\n",
    "        \"primary_tag\": \"Renter Details\",\n",
    "        \"secondary_tag\": \"Details\",\n",
    "      }\n",
    "    },\n",
    "    {\n",
    "      \"name\": \"renter__lifetime_value\",\n",
    "      \"label\": \"Lifetime Value\",\n",
    "      \"description\": \"Total value of rentals by the renter.\",\n",
    "      \"type\": \"CATEGORICAL\",\n",
    "      \"dimensionTags\": {\n",
    "        \"data_group\": \"core\",\n",
    "        \"name\": \"renter__lifetime_value\",\n",
    "        \"primary_tag\": \"Renter Details\",\n",
    "        \"secondary_tag\": \"null\",\n",
    "      }\n",
    "    },\n",
    "    {\n",
    "      \"name\": \"renter__lifetime_rentals\",\n",
    "      \"label\": \"Lifetime Rentals\",\n",
    "      \"description\": \"Total number of rentals by the renter.\",\n",
    "      \"type\": \"CATEGORICAL\",\n",
    "      \"dimensionTags\": {\n",
    "        \"data_group\": \"core\",\n",
    "        \"name\": \"renter__lifetime_rentals\",\n",
    "        \"primary_tag\": \"Renter Details\",\n",
    "        \"secondary_tag\": \"null\",\n",
    "      }\n",
    "    },\n",
    "    {\n",
    "      \"name\": \"renter__days_since_first_rental\",\n",
    "      \"label\": \"Days Since First Rental\",\n",
    "      \"description\": \"Number of days since the renter's first rental.\",\n",
    "      \"type\": \"CATEGORICAL\",\n",
    "      \"dimensionTags\": {\n",
    "        \"data_group\": \"core\",\n",
    "        \"name\": \"renter__days_since_first_rental\",\n",
    "        \"primary_tag\": \"Renter Details\",\n",
    "        \"secondary_tag\": \"Signup and Recency\",\n",
    "      }\n",
    "    }\n",
    "  ]\n",
    "}"
   ],
   "id": "3a50a77775febd56",
   "outputs": [
    {
     "name": "stdout",
     "output_type": "stream",
     "text": [
      "sqlite:////Users/doug/Documents/pythonProjects/abacus/abacus.db\n"
     ]
    }
   ],
   "execution_count": 1
  },
  {
   "metadata": {
    "ExecuteTime": {
     "end_time": "2024-08-12T20:21:51.078102Z",
     "start_time": "2024-08-12T20:21:51.075239Z"
    }
   },
   "cell_type": "code",
   "source": [
    "from app.models import dimensions_schema, DimensionTags, Dimension\n",
    "from app import app, db\n",
    "import pandas as pd\n",
    "import numpy as np"
   ],
   "id": "d46e3ae93a024505",
   "outputs": [],
   "execution_count": 2
  },
  {
   "metadata": {
    "ExecuteTime": {
     "end_time": "2024-08-12T17:55:48.035083Z",
     "start_time": "2024-08-12T17:55:48.032660Z"
    }
   },
   "cell_type": "code",
   "source": [
    "metrics = fields.get('metrics')\n",
    "dimensions = fields.get('dimensions')"
   ],
   "id": "d3c9864a335941de",
   "outputs": [],
   "execution_count": 10
  },
  {
   "metadata": {
    "ExecuteTime": {
     "end_time": "2024-08-12T18:12:14.231808Z",
     "start_time": "2024-08-12T18:12:14.227579Z"
    }
   },
   "cell_type": "code",
   "source": [
    "tags = pd.read_csv('tags.csv')\n",
    "tags = tags.replace({np.nan: None})\n"
   ],
   "id": "f3ceb826547e352d",
   "outputs": [],
   "execution_count": 3
  },
  {
   "metadata": {
    "ExecuteTime": {
     "end_time": "2024-08-12T18:12:16.248664Z",
     "start_time": "2024-08-12T18:12:16.231592Z"
    }
   },
   "cell_type": "code",
   "source": [
    "with app.app_context():\n",
    "  for id,tag in tags.iterrows():\n",
    "    db.session.add(\n",
    "      DimensionTags(\n",
    "        name=tag['name'],\n",
    "        primary_tag=tag['primary_tag'],\n",
    "        secondary_tag=tag['secondary_tag'],\n",
    "        data_group=tag['data_group'],\n",
    "      )\n",
    "    )\n",
    "  db.session.commit()\n",
    "\n",
    "    "
   ],
   "id": "45115f4043379eae",
   "outputs": [],
   "execution_count": 4
  },
  {
   "metadata": {
    "ExecuteTime": {
     "end_time": "2024-08-12T20:26:09.309284Z",
     "start_time": "2024-08-12T20:26:09.303661Z"
    }
   },
   "cell_type": "code",
   "source": [
    "with app.app_context():\n",
    "  renter__last_rental_date = db.session.get(DimensionTags,'15')\n",
    "  db.session.delete(renter__last_rental_date)\n",
    "  db.session.commit()\n",
    "#renter__last_rental_date"
   ],
   "id": "b432a5109bdd1028",
   "outputs": [],
   "execution_count": 11
  },
  {
   "metadata": {},
   "cell_type": "code",
   "outputs": [],
   "execution_count": null,
   "source": "",
   "id": "4a4b7cd63a07983a"
  }
 ],
 "metadata": {
  "kernelspec": {
   "display_name": "Python 3",
   "language": "python",
   "name": "python3"
  },
  "language_info": {
   "codemirror_mode": {
    "name": "ipython",
    "version": 2
   },
   "file_extension": ".py",
   "mimetype": "text/x-python",
   "name": "python",
   "nbconvert_exporter": "python",
   "pygments_lexer": "ipython2",
   "version": "2.7.6"
  }
 },
 "nbformat": 4,
 "nbformat_minor": 5
}
