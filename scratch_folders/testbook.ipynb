{
 "cells": [
  {
   "metadata": {
    "ExecuteTime": {
     "end_time": "2024-08-15T14:34:00.968227Z",
     "start_time": "2024-08-15T14:34:00.574932Z"
    }
   },
   "cell_type": "code",
   "source": [
    "data = {\n",
    "  \"metrics\": [\n",
    "    {\n",
    "      \"name\": \"average_gmv_local\",\n",
    "      \"label\": \"Average GMV Local\",\n",
    "      \"description\": \"The average checkout price excluding SH fees (base and/or event fees). This only accounts rentals with 'payment_status' = 'success' and 'reservation_status' = 'valid'\",\n",
    "      \"type\": \"DERIVED\",\n",
    "      \"typeParams\": {\n",
    "        \"expr\": \"gmv_local / rentals_sold\"\n",
    "      },\n",
    "      \"measures\": [\n",
    "        {\n",
    "          \"name\": \"spothero_fee_revenue_local_valid_measure\",\n",
    "          \"agg\": \"SUM\",\n",
    "          \"expr\": \"CASE WHEN is_valid = True THEN spothero_fee_rollup_local ELSE 0 END\"\n",
    "        },\n",
    "        {\n",
    "          \"name\": \"count_of_rentals_sold_measure\",\n",
    "          \"agg\": \"SUM\",\n",
    "          \"expr\": \"CASE WHEN is_valid THEN 1 ELSE 0 END\"\n",
    "        },\n",
    "        {\n",
    "          \"name\": \"gov_local_valid_measure\",\n",
    "          \"agg\": \"SUM\",\n",
    "          \"expr\": \"CASE WHEN is_valid = True THEN rental_checkout_price_local ELSE 0 END\"\n",
    "        }\n",
    "      ],\n",
    "      \"config\": {\n",
    "        \"meta\": {\n",
    "          \"group\": \"Core\",\n",
    "          \"metric_type\": \"Operational Financial Metrics\",\n",
    "          \"metric_category\": \"Financial Metrics\"\n",
    "        }\n",
    "      },\n",
    "      \"entities\": [\n",
    "        {\n",
    "          \"name\": \"rental\",\n",
    "          \"expr\": \"rental_id\"\n",
    "        },\n",
    "        {\n",
    "          \"name\": \"forex\",\n",
    "          \"expr\": \"forex_id\"\n",
    "        },\n",
    "        {\n",
    "          \"name\": \"facility\",\n",
    "          \"expr\": \"facility_configuration_id\"\n",
    "        },\n",
    "        {\n",
    "          \"name\": \"event\",\n",
    "          \"expr\": \"event_id\"\n",
    "        },\n",
    "        {\n",
    "          \"name\": \"renter\",\n",
    "          \"expr\": \"renter_id\"\n",
    "        },\n",
    "        {\n",
    "          \"name\": \"partner\",\n",
    "          \"expr\": \"partner_id\"\n",
    "        },\n",
    "        {\n",
    "          \"name\": \"canonical_facility\",\n",
    "          \"expr\": \"canonical_facility_id\"\n",
    "        },\n",
    "        {\n",
    "          \"name\": \"operator\",\n",
    "          \"expr\": \"operator_id\"\n",
    "        },\n",
    "        {\n",
    "          \"name\": \"geography\",\n",
    "          \"expr\": \"geo_id\"\n",
    "        },\n",
    "        {\n",
    "          \"name\": \"destination\",\n",
    "          \"expr\": \"destination_id\"\n",
    "        }\n",
    "      ]\n",
    "    }\n",
    "  ],\n",
    "  \"dimensions\": [\n",
    "    {\n",
    "      \"name\": \"renter__phone_number\",\n",
    "      \"label\": \"Phone Number\",\n",
    "      \"description\": \"Thie field denotes the default phone number of the renter.\",\n",
    "      \"type\": \"CATEGORICAL\",\n",
    "      \"dimensionTags\": {\n",
    "        \"data_group\": None,\n",
    "        \"name\": \"renter__phone_number\",\n",
    "        \"primary_tag\": \"Renter Details\",\n",
    "        \"secondary_tag\": \"Details\"\n",
    "      }\n",
    "    },\n",
    "    {\n",
    "      \"name\": \"renter__last_name\",\n",
    "      \"label\": \"Last Name\",\n",
    "      \"description\": \"This field denotes the last name of the renter.\",\n",
    "      \"type\": \"CATEGORICAL\",\n",
    "      \"dimensionTags\": {\n",
    "        \"data_group\": None,\n",
    "        \"name\": \"renter__last_name\",\n",
    "        \"primary_tag\": \"Renter Details\",\n",
    "        \"secondary_tag\": \"Details\"\n",
    "      }\n",
    "    }\n",
    "  ]\n",
    "}\n",
    "import json\n",
    "\n",
    "import lkml\n",
    "\n",
    "import looker_models as lm\n",
    "from app import app, db\n",
    "from app.models import metrics_schema, dimensions_schema\n",
    "\n",
    "graphql_metrics = data['metrics']\n",
    "graphql_dimensions = data['dimensions']\n",
    "#retool_view"
   ],
   "id": "4c839c0900d18c50",
   "outputs": [
    {
     "name": "stdout",
     "output_type": "stream",
     "text": [
      "sqlite:////Users/doug/Documents/pythonProjects/abacus/abacus.db\n"
     ]
    }
   ],
   "execution_count": 1
  },
  {
   "metadata": {
    "ExecuteTime": {
     "end_time": "2024-08-15T14:34:02.828617Z",
     "start_time": "2024-08-15T14:34:02.818084Z"
    }
   },
   "cell_type": "code",
   "source": [
    "with app.app_context(), db.session.no_autoflush:\n",
    "    metrics = metrics_schema.load(graphql_metrics)\n",
    "    dimensions = dimensions_schema.load(graphql_dimensions)"
   ],
   "id": "9c709aa316b29b2b",
   "outputs": [],
   "execution_count": 2
  },
  {
   "metadata": {
    "ExecuteTime": {
     "start_time": "2024-08-15T14:23:25.542190Z"
    }
   },
   "cell_type": "code",
   "source": [
    "tablename = \"rental_performance\"\n",
    "schema = \"dbt_looker\"\n",
    "sql_trigger_value = \"SELECT FLOOR(((TIMESTAMP_DIFF(CURRENT_TIMESTAMP(),'1970-01-01 00:00:00',SECOND)) - 60*60*10)/(60*60*24))\"\n",
    "derived_table = {}\n",
    "derived_table['sql'] = f\"select * from {schema}.{tablename}\"\n",
    "derived_table['sql_trigger_value'] = sql_trigger_value\n",
    "derived_table = {\"derived_table\": derived_table}\n",
    "\n",
    "view = {\"name\": tablename}\n",
    "\n",
    "view.update(derived_table)\n",
    "view.update({\"measures\": [lm.to_looker(metric) for metric in metrics]})\n",
    "view.update({\"dimensions\": [lm.to_looker(dimension) for dimension in dimensions]})\n",
    "\n",
    "view = {\"view\": view}\n",
    "print(type(view))\n",
    "lookml = lkml.dump(view)\n",
    "\n",
    "# with open('explore.lkml', 'w') as f:\n",
    "#     for line in lookml:\n",
    "#         f.write(f\"{line}\")\n"
   ],
   "id": "4dcfac74896e4d33",
   "outputs": [],
   "execution_count": null
  },
  {
   "metadata": {},
   "cell_type": "code",
   "outputs": [],
   "execution_count": null,
   "source": "",
   "id": "34ae061fb7a08679"
  }
 ],
 "metadata": {
  "kernelspec": {
   "display_name": "Python 3",
   "language": "python",
   "name": "python3"
  },
  "language_info": {
   "codemirror_mode": {
    "name": "ipython",
    "version": 2
   },
   "file_extension": ".py",
   "mimetype": "text/x-python",
   "name": "python",
   "nbconvert_exporter": "python",
   "pygments_lexer": "ipython2",
   "version": "2.7.6"
  }
 },
 "nbformat": 4,
 "nbformat_minor": 5
}
