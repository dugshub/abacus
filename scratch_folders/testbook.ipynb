{
 "cells": [
  {
   "metadata": {
    "ExecuteTime": {
     "end_time": "2024-08-15T16:13:25.226823Z",
     "start_time": "2024-08-15T16:13:24.714060Z"
    }
   },
   "cell_type": "code",
   "source": [
    "data ={\"metrics\":[{\"name\":\"gov_local\",\"label\":\"GOV Local\",\"description\":\"The sum of checkout price including all fees. This only accounts rentals with 'payment_status' = 'success' and 'reservation_status' = 'valid'\",\"type\":\"SIMPLE\",\"typeParams\":{\"expr\":None},\"measures\":[{\"name\":\"gov_local_valid_measure\",\"agg\":\"SUM\",\"expr\":\"CASE WHEN is_valid = True THEN rental_checkout_price_local ELSE 0 END\"}],\"config\":{\"meta\":{\"group\":\"Core\",\"metric_type\":\"Operational Financial Metrics\",\"metric_category\":\"Financial Metrics\"}},\"entities\":[{\"name\":\"rental\",\"expr\":\"rental_id\"},{\"name\":\"forex\",\"expr\":\"forex_id\"},{\"name\":\"facility\",\"expr\":\"facility_configuration_id\"},{\"name\":\"event\",\"expr\":\"event_id\"},{\"name\":\"renter\",\"expr\":\"renter_id\"},{\"name\":\"partner\",\"expr\":\"partner_id\"},{\"name\":\"canonical_facility\",\"expr\":\"canonical_facility_id\"},{\"name\":\"operator\",\"expr\":\"operator_id\"},{\"name\":\"geography\",\"expr\":\"geo_id\"},{\"name\":\"destination\",\"expr\":\"destination_id\"}]}],\"dimensions\":[{\"name\":\"facility__canonical_facility__canonical_facility_id\",\"label\":\"Canonical Facility ID\",\"description\":\"Unique identifier for the canonical facility.  This field corresponds to the ID in SpotHero Admin.\",\"type\":\"CATEGORICAL\",\"dimensionTags\":{\"data_group\":None,\"name\":\"facility__canonical_facility__canonical_facility_id\",\"primary_tag\":\"Canonical Facility\",\"secondary_tag\":\"ID Fields\"}},{\"name\":\"facility__canonical_facility__canonical_facility_title\",\"label\":\"Canonical Facility Title\",\"description\":\"Title of the canonical facility. This name will match what is provided in SpotHero Admin/SFDC.\",\"type\":\"CATEGORICAL\",\"dimensionTags\":{\"data_group\":None,\"name\":\"facility__canonical_facility__canonical_facility_title\",\"primary_tag\":\"Canonical Facility\",\"secondary_tag\":\"Details\"}},{\"name\":\"facility__canonical_facility__is_airport_facility\",\"label\":\"Is Airport Facility\",\"description\":\"This field indicates if the facility is associated with an airport.\",\"type\":\"CATEGORICAL\",\"dimensionTags\":{\"data_group\":None,\"name\":\"facility__canonical_facility__is_airport_facility\",\"primary_tag\":\"Canonical Facility\",\"secondary_tag\":None}},{\"name\":\"facility__default_facility_spaces\",\"label\":\"Default Facility Spaces\",\"description\":\"Default number of spaces at the facility/parking spot. This can be set by SpotHero or the operator.\",\"type\":\"CATEGORICAL\",\"dimensionTags\":{\"data_group\":None,\"name\":\"facility__default_facility_spaces\",\"primary_tag\":\"Canonical Facility\",\"secondary_tag\":\"Facility Config Details\"}},{\"name\":\"facility__facility_type\",\"label\":\"Facility Type\",\"description\":\"Broad definition on the structure of the spot, such as 'lol', 'garage', or 'valet_stand'.\",\"type\":\"CATEGORICAL\",\"dimensionTags\":{\"data_group\":None,\"name\":\"facility__facility_type\",\"primary_tag\":\"Canonical Facility\",\"secondary_tag\":\"Facility Config Details\"}},{\"name\":\"facility__facility_title\",\"label\":\"Facility Title\",\"description\":\"Title of the facility/parking spot. This title will match the name in Admin as well as the SFDC opportunity.\",\"type\":\"CATEGORICAL\",\"dimensionTags\":{\"data_group\":None,\"name\":\"facility__facility_title\",\"primary_tag\":\"Canonical Facility\",\"secondary_tag\":\"Facility Config Details\"}},{\"name\":\"facility__canonical_facility__address_id\",\"label\":\"Address ID\",\"description\":\"Address identifier for the canonical facility.  This field relates the facility location to a specific address.\",\"type\":\"CATEGORICAL\",\"dimensionTags\":{\"data_group\":None,\"name\":\"facility__canonical_facility__address_id\",\"primary_tag\":\"Canonical Facility\",\"secondary_tag\":\"Address\"}},{\"name\":\"rental__rental_created_at_cst\",\"label\":\"Rental Created At - CST\",\"description\":\"This field denotes the date of the rental purchase in CST. This date is pulled from a timestamp that is triggered upon receipt of the purchase in whichever medium the renter made the purchase.\",\"type\":\"TIME\",\"dimensionTags\":{\"data_group\":None,\"name\":\"rental__rental_created_at_cst\",\"primary_tag\":\"Date and Time\",\"secondary_tag\":\"Rental\"}},{\"name\":\"rental__rental_created_at_local\",\"label\":\"Rental Created At - Local\",\"description\":\"This field denotes the date of the rental purchase in the time local to the facility attached to the rental. This date is pulled from a timestamp that is triggered upon receipt of the purchase in whichever medium the renter made the purchase.\",\"type\":\"TIME\",\"dimensionTags\":{\"data_group\":None,\"name\":\"rental__rental_created_at_local\",\"primary_tag\":\"Date and Time\",\"secondary_tag\":\"Rental\"}},{\"name\":\"rental__rental_ends_at_local\",\"label\":\"Rental Ends At - Local\",\"description\":\"This field denotes the date the rental ends in the time local to the facility attached to the rental.\",\"type\":\"TIME\",\"dimensionTags\":{\"data_group\":None,\"name\":\"rental__rental_ends_at_local\",\"primary_tag\":\"Date and Time\",\"secondary_tag\":\"Rental\"}},{\"name\":\"rental__rental_starts_at_local\",\"label\":\"Rental Starts At - Local\",\"description\":\"This field denotes the date the rental starts in the time local to the facility attached to the rental.\",\"type\":\"TIME\",\"dimensionTags\":{\"data_group\":None,\"name\":\"rental__rental_starts_at_local\",\"primary_tag\":\"Date and Time\",\"secondary_tag\":\"Rental\"}},{\"name\":\"event__destination__status\",\"label\":\"Status\",\"description\":\"Destination/venue's status, where status corresponds to if the destination/venue is enabled/archived/deleted.\",\"type\":\"CATEGORICAL\",\"dimensionTags\":{\"data_group\":None,\"name\":\"event__destination__status\",\"primary_tag\":\"Event Destination\",\"secondary_tag\":\"Details\"}},{\"name\":\"event__destination__street_address\",\"label\":\"Street Address\",\"description\":\"Street address of the destination/venue.\",\"type\":\"CATEGORICAL\",\"dimensionTags\":{\"data_group\":None,\"name\":\"event__destination__street_address\",\"primary_tag\":\"Event Destination\",\"secondary_tag\":\"Address\"}},{\"name\":\"event__destination__title\",\"label\":\"Title\",\"description\":\"Title of the destination.  This is the title of the specific venue.\",\"type\":\"CATEGORICAL\",\"dimensionTags\":{\"data_group\":None,\"name\":\"event__destination__title\",\"primary_tag\":\"Event Destination\",\"secondary_tag\":\"Details\"}},{\"name\":\"event__destination__zipcode\",\"label\":\"Zipcode\",\"description\":\"Zip code of the destination/venue.\",\"type\":\"CATEGORICAL\",\"dimensionTags\":{\"data_group\":None,\"name\":\"event__destination__zipcode\",\"primary_tag\":\"Event Destination\",\"secondary_tag\":\"Address\"}},{\"name\":\"event__destination__destination_id\",\"label\":\"Destination ID\",\"description\":\"Unique identifier for the destination. A destination is attached to a specific venue (I.e. Staples Center/ Sofi).\",\"type\":\"CATEGORICAL\",\"dimensionTags\":{\"data_group\":None,\"name\":\"event__destination__destination_id\",\"primary_tag\":\"Event Destination\",\"secondary_tag\":\"ID Fields\"}},{\"name\":\"event__destination__description\",\"label\":\"Description\",\"description\":\"A brief description of the venue. This can be anything from additional naming to a specific team/teams that play at this venue.\",\"type\":\"CATEGORICAL\",\"dimensionTags\":{\"data_group\":None,\"name\":\"event__destination__description\",\"primary_tag\":\"Event Destination\",\"secondary_tag\":None}},{\"name\":\"event__event_id\",\"label\":\"Event ID\",\"description\":\"This unique ID serves as the specific indentifier for a given event.\",\"type\":\"CATEGORICAL\",\"dimensionTags\":{\"data_group\":None,\"name\":\"event__event_id\",\"primary_tag\":\"Events\",\"secondary_tag\":\"ID Fields\"}},{\"name\":\"event__is_high_profile\",\"label\":\"Is High Profile\",\"description\":\"This field, pulled from monolith, denotes which events have a strict refund policy to dissuade resellers.\",\"type\":\"CATEGORICAL\",\"dimensionTags\":{\"data_group\":None,\"name\":\"event__is_high_profile\",\"primary_tag\":\"Events\",\"secondary_tag\":None}},{\"name\":\"event__deleted\",\"label\":\"Deleted\",\"description\":\"Indicates if the event is deleted out of SpotHero systems.\",\"type\":\"CATEGORICAL\",\"dimensionTags\":{\"data_group\":None,\"name\":\"event__deleted\",\"primary_tag\":\"Events\",\"secondary_tag\":\"Date and Time\"}},{\"name\":\"event__ends\",\"label\":\"Ends\",\"description\":\"End date of the event.\",\"type\":\"TIME\",\"dimensionTags\":{\"data_group\":None,\"name\":\"event__ends\",\"primary_tag\":\"Events\",\"secondary_tag\":\"Date and Time\"}},{\"name\":\"event__event_ends_offset\",\"label\":\"Event Ends Offset\",\"description\":\"This field outlines the time buffer (in minutes) that is set up after the event ends during which event parking can end, as event rates can extend past the event end time\",\"type\":\"CATEGORICAL\",\"dimensionTags\":{\"data_group\":None,\"name\":\"event__event_ends_offset\",\"primary_tag\":\"Events\",\"secondary_tag\":\"Date and Time\"}},{\"name\":\"event__title\",\"label\":\"Title\",\"description\":\"Title of the event.\",\"type\":\"CATEGORICAL\",\"dimensionTags\":{\"data_group\":None,\"name\":\"event__title\",\"primary_tag\":\"Events\",\"secondary_tag\":\"Details\"}},{\"name\":\"event__starts\",\"label\":\"Starts\",\"description\":\"Start date of the event.\",\"type\":\"TIME\",\"dimensionTags\":{\"data_group\":None,\"name\":\"event__starts\",\"primary_tag\":\"Events\",\"secondary_tag\":\"Date and Time\"}},{\"name\":\"event__event_starts_offset\",\"label\":\"Event Starts Offset\",\"description\":\"This field outlines the time buffer (in minutes) that is set up before the event starts during which event parking can begin, as event rates can beging before the event start time.\",\"type\":\"CATEGORICAL\",\"dimensionTags\":{\"data_group\":None,\"name\":\"event__event_starts_offset\",\"primary_tag\":\"Events\",\"secondary_tag\":\"Date and Time\"}},{\"name\":\"event__parent_event_id\",\"label\":\"Parent Event ID\",\"description\":\"This field serves as a rollup identifier for when multiple events are actually the same event (I.e. there is are 2 events for the same concert, but one is for the opener and one for the main act).\",\"type\":\"CATEGORICAL\",\"dimensionTags\":{\"data_group\":None,\"name\":\"event__parent_event_id\",\"primary_tag\":\"Events\",\"secondary_tag\":\"ID Fields\"}},{\"name\":\"event__seatgeek_id\",\"label\":\"SeatGeek ID\",\"description\":\"This field is the associated identifier from an attached SeatGeek event.\",\"type\":\"CATEGORICAL\",\"dimensionTags\":{\"data_group\":None,\"name\":\"event__seatgeek_id\",\"primary_tag\":\"Events\",\"secondary_tag\":\"ID Fields\"}},{\"name\":\"facility__geography__country_name\",\"label\":\"Country Name\",\"description\":\"This field denotes the country the facility is in, I.e. USA or Canada.\",\"type\":\"CATEGORICAL\",\"dimensionTags\":{\"data_group\":None,\"name\":\"facility__geography__country_name\",\"primary_tag\":\"Geography\",\"secondary_tag\":None}},{\"name\":\"facility__geography__county_name\",\"label\":\"County Name\",\"description\":\"This field denotes the name of the county the facility is in, I.e. Cook or Hamilton.\",\"type\":\"CATEGORICAL\",\"dimensionTags\":{\"data_group\":None,\"name\":\"facility__geography__county_name\",\"primary_tag\":\"Geography\",\"secondary_tag\":None}},{\"name\":\"facility__geography__locality_name\",\"label\":\"Locality Name\",\"description\":\"This field denotes the specific locality/city the facility is in, I.e. Chicago or Toronto.\",\"type\":\"CATEGORICAL\",\"dimensionTags\":{\"data_group\":None,\"name\":\"facility__geography__locality_name\",\"primary_tag\":\"Geography\",\"secondary_tag\":None}},{\"name\":\"facility__geography__neighbourhood_name\",\"label\":\"Neighbourhood Name\",\"description\":\"This field denotes the name of the neighbourhood the facility is in, I.e. Loop or Chinatown.\",\"type\":\"CATEGORICAL\",\"dimensionTags\":{\"data_group\":None,\"name\":\"facility__geography__neighbourhood_name\",\"primary_tag\":\"Geography\",\"secondary_tag\":None}},{\"name\":\"facility__geography__region_name\",\"label\":\"Region Name\",\"description\":\"This field denotes the region/state/province the facility is in, I.e Illinois or Ontario.\",\"type\":\"CATEGORICAL\",\"dimensionTags\":{\"data_group\":None,\"name\":\"facility__geography__region_name\",\"primary_tag\":\"Geography\",\"secondary_tag\":None}},{\"name\":\"facility__geography__geography_id\",\"label\":\"Geography ID\",\"description\":\"This field denoates the unique identifier for a specific \\\"geograhy\\\", I.e. a county/region/locality/country combination.\",\"type\":\"CATEGORICAL\",\"dimensionTags\":{\"data_group\":None,\"name\":\"facility__geography__geography_id\",\"primary_tag\":\"Geography\",\"secondary_tag\":\"ID Fields\"}},{\"name\":\"facility__canonical_facility__reporting_market\",\"label\":\"Reporting Market\",\"description\":\"SFDC Reporting market (I.e. Region/City) of the canonical facility.\",\"type\":\"CATEGORICAL\",\"dimensionTags\":{\"data_group\":None,\"name\":\"facility__canonical_facility__reporting_market\",\"primary_tag\":\"Geography\",\"secondary_tag\":\"Reporting Market\"}},{\"name\":\"facility__canonical_facility__reporting_market_top_6_canada\",\"label\":\"Reporting Market Top 6 Canada\",\"description\":\"Indicates if the facility is in the top 6 SFDC reporting markets in Canada.\",\"type\":\"CATEGORICAL\",\"dimensionTags\":{\"data_group\":None,\"name\":\"facility__canonical_facility__reporting_market_top_6_canada\",\"primary_tag\":\"Geography\",\"secondary_tag\":\"Reporting Market\"}},{\"name\":\"facility__canonical_facility__reporting_market_top_8\",\"label\":\"Reporting Market Top 8\",\"description\":\"Indicates if the facility is in SpotHero's top 8 SFDC reporting markets.\",\"type\":\"CATEGORICAL\",\"dimensionTags\":{\"data_group\":None,\"name\":\"facility__canonical_facility__reporting_market_top_8\",\"primary_tag\":\"Geography\",\"secondary_tag\":\"Reporting Market\"}},{\"name\":\"rental__rental_id\",\"label\":\"Rental ID\",\"description\":\"This field is the unique SpotHero Rental ID.  This ID matches the Rental ID in SpotHero Admin.\",\"type\":\"CATEGORICAL\",\"dimensionTags\":{\"data_group\":None,\"name\":\"rental__rental_id\",\"primary_tag\":\"Rental\",\"secondary_tag\":\"ID Fields\"}},{\"name\":\"rental__rental_lead_time\",\"label\":\"Rental Lead Time\",\"description\":\"This field denotes the minutes between the purchase time and reservation start time, in CST (negative values represent reservations purchased after the start).\",\"type\":\"CATEGORICAL\",\"dimensionTags\":{\"data_group\":None,\"name\":\"rental__rental_lead_time\",\"primary_tag\":\"Rental\",\"secondary_tag\":\"Lead Time\"}},{\"name\":\"rental__rental_length_hours\",\"label\":\"Rental Length Hours\",\"description\":\"This field denotes the total length of the specific reservation attached to a rental, in hours. Note that this is not necessarily the total length of time the renter's vehicle was at the facility.\",\"type\":\"CATEGORICAL\",\"dimensionTags\":{\"data_group\":None,\"name\":\"rental__rental_length_hours\",\"primary_tag\":\"Rental\",\"secondary_tag\":\"Rental Length\"}},{\"name\":\"rental__rental_length_minutes\",\"label\":\"Rental Length Minutes\",\"description\":\"This field denotes the total length of the specific reservation attached to a rental, in minutes. Note that this is not necessarily the total length of time the renter's vehicle was at the facility.\",\"type\":\"CATEGORICAL\",\"dimensionTags\":{\"data_group\":None,\"name\":\"rental__rental_length_minutes\",\"primary_tag\":\"Rental\",\"secondary_tag\":\"Rental Length\"}},{\"name\":\"rental__rental_payment_status\",\"label\":\"Rental Payment Status\",\"description\":\"This field denotes the current status of a payment for a given rental. This field will match the status in Stripe for the same rental, and will also match what is listed in SpotHero Admin.\",\"type\":\"CATEGORICAL\",\"dimensionTags\":{\"data_group\":None,\"name\":\"rental__rental_payment_status\",\"primary_tag\":\"Rental\",\"secondary_tag\":\"Rental Payment Details\"}},{\"name\":\"rental__rental_payment_type_title\",\"label\":\"Rental Payment Type Title\",\"description\":\"This field denotes the payment processing partner used for a rental (I.e. Stripe).\",\"type\":\"CATEGORICAL\",\"dimensionTags\":{\"data_group\":None,\"name\":\"rental__rental_payment_type_title\",\"primary_tag\":\"Rental\",\"secondary_tag\":\"Rental Payment Details\"}},{\"name\":\"rental__rental_segment\",\"label\":\"Rental Segment\",\"description\":\"This field denotes the rental segment of a given rental, as definied by the type of the rate purchased (Commuter, Airport, Event, Weekend PM, etc.).\",\"type\":\"CATEGORICAL\",\"dimensionTags\":{\"data_group\":None,\"name\":\"rental__rental_segment\",\"primary_tag\":\"Rental\",\"secondary_tag\":\"Rental Segmentation\"}},{\"name\":\"rental__rental_segment_rollup\",\"label\":\"Rental Segment Rollup\",\"description\":\"This field denotes a grouped rental segment of a given rental, as definied by the type of the rate purchased. Commuter, Airport, Event, and Monthly rates remain, however all other rates are grouped into Transient Rate.\",\"type\":\"CATEGORICAL\",\"dimensionTags\":{\"data_group\":None,\"name\":\"rental__rental_segment_rollup\",\"primary_tag\":\"Rental\",\"secondary_tag\":\"Rental Segmentation\"}},{\"name\":\"rental__rental_rule_type_title\",\"label\":\"Rental Rule Type Title\",\"description\":\"This field denotes the specific rental type/rate attached to a rental. A rental type can be hourly, monthly, or multirate.\",\"type\":\"CATEGORICAL\",\"dimensionTags\":{\"data_group\":None,\"name\":\"rental__rental_rule_type_title\",\"primary_tag\":\"Rental\",\"secondary_tag\":\"Reservation Details\"}},{\"name\":\"rental__rental_source_title\",\"label\":\"Rental Source Title\",\"description\":\"This field denotes the medium where the renter purchased a given rental, I.e. IOS, Android, Web.\",\"type\":\"CATEGORICAL\",\"dimensionTags\":{\"data_group\":None,\"name\":\"rental__rental_source_title\",\"primary_tag\":\"Rental\",\"secondary_tag\":\"Reservation Details\"}},{\"name\":\"renter__lifetime_credit_used\",\"label\":\"Lifetime Credit Used\",\"description\":\"This field provides the total value of SpotHero credit used by the renter since the renter first started using the service.\",\"type\":\"CATEGORICAL\",\"dimensionTags\":{\"data_group\":None,\"name\":\"renter__lifetime_credit_used\",\"primary_tag\":\"Renter Details\",\"secondary_tag\":None}},{\"name\":\"renter__lifetime_rentals\",\"label\":\"Lifetime Rentals\",\"description\":\"This field provides the total number of rentals by the renter since the renter first started using the service.\",\"type\":\"CATEGORICAL\",\"dimensionTags\":{\"data_group\":None,\"name\":\"renter__lifetime_rentals\",\"primary_tag\":\"Renter Details\",\"secondary_tag\":None}},{\"name\":\"renter__lifetime_value\",\"label\":\"Lifetime Value\",\"description\":\"This field provides the total value of rentals made by the renter since the renter first started using the service.  This field includes ALL fees and the rental price.\",\"type\":\"CATEGORICAL\",\"dimensionTags\":{\"data_group\":None,\"name\":\"renter__lifetime_value\",\"primary_tag\":\"Renter Details\",\"secondary_tag\":None}},{\"name\":\"renter__first_name\",\"label\":\"First Name\",\"description\":\"This field denotes the first name of the renter.\",\"type\":\"CATEGORICAL\",\"dimensionTags\":{\"data_group\":None,\"name\":\"renter__first_name\",\"primary_tag\":\"Renter Details\",\"secondary_tag\":\"Details\"}},{\"name\":\"renter__last_name\",\"label\":\"Last Name\",\"description\":\"This field denotes the last name of the renter.\",\"type\":\"CATEGORICAL\",\"dimensionTags\":{\"data_group\":None,\"name\":\"renter__last_name\",\"primary_tag\":\"Renter Details\",\"secondary_tag\":\"Details\"}},{\"name\":\"renter__first_rental_id\",\"label\":\"First Rental ID\",\"description\":\"Thie field provides the unique rental Identifier for the renter's first rental.\",\"type\":\"CATEGORICAL\",\"dimensionTags\":{\"data_group\":None,\"name\":\"renter__first_rental_id\",\"primary_tag\":\"Renter Details\",\"secondary_tag\":\"ID Fields\"}},{\"name\":\"renter__last_rental_id\",\"label\":\"Last Rental ID\",\"description\":\"This field provides the unique rental Identifier for the renter's most recent rental.\",\"type\":\"CATEGORICAL\",\"dimensionTags\":{\"data_group\":None,\"name\":\"renter__last_rental_id\",\"primary_tag\":\"Renter Details\",\"secondary_tag\":\"ID Fields\"}},{\"name\":\"renter__renter_id\",\"label\":\"Renter ID\",\"description\":\"This field provides a unique identifier for the renter.  This ID pulls from Monolith.\",\"type\":\"CATEGORICAL\",\"dimensionTags\":{\"data_group\":None,\"name\":\"renter__renter_id\",\"primary_tag\":\"Renter Details\",\"secondary_tag\":\"ID Fields\"}},{\"name\":\"renter__date_joined\",\"label\":\"Date Joined\",\"description\":\"This field denotes the date when the renter first used a SpotHero service (includes signing up without renting).\",\"type\":\"TIME\",\"dimensionTags\":{\"data_group\":None,\"name\":\"renter__date_joined\",\"primary_tag\":\"Renter Details\",\"secondary_tag\":\"Signup and Recency\"}},{\"name\":\"renter__days_since_first_rental\",\"label\":\"Days Since First Rental\",\"description\":\"This field denotes the number of days elapsed since the renter's first rental.\",\"type\":\"CATEGORICAL\",\"dimensionTags\":{\"data_group\":None,\"name\":\"renter__days_since_first_rental\",\"primary_tag\":\"Renter Details\",\"secondary_tag\":\"Signup and Recency\"}},{\"name\":\"renter__days_since_last_rental\",\"label\":\"Days Since Last Rental\",\"description\":\"This field denotes the number of days elapsed since the renter's last rental.\",\"type\":\"CATEGORICAL\",\"dimensionTags\":{\"data_group\":None,\"name\":\"renter__days_since_last_rental\",\"primary_tag\":\"Renter Details\",\"secondary_tag\":\"Signup and Recency\"}},{\"name\":\"renter__first_rental_date\",\"label\":\"First Rental Date\",\"description\":\"This field denotes the date of the renter's first rental.\",\"type\":\"TIME\",\"dimensionTags\":{\"data_group\":None,\"name\":\"renter__first_rental_date\",\"primary_tag\":\"Renter Details\",\"secondary_tag\":\"Signup and Recency\"}},{\"name\":\"renter__last_rental_date\",\"label\":\"Last Rental Date\",\"description\":\"This field denotes the date of the renter's most recent rental.\",\"type\":\"TIME\",\"dimensionTags\":{\"data_group\":None,\"name\":\"renter__last_rental_date\",\"primary_tag\":\"Renter Details\",\"secondary_tag\":\"Signup and Recency\"}}]}\n",
    "import json\n",
    "\n",
    "import lkml\n",
    "\n",
    "import looker_models as lm\n",
    "from app import app, db\n",
    "from app.models import metrics_schema, dimensions_schema\n",
    "\n",
    "graphql_metrics = data['metrics']\n",
    "graphql_dimensions = data['dimensions']\n",
    "#retool_view"
   ],
   "id": "4c839c0900d18c50",
   "outputs": [
    {
     "name": "stdout",
     "output_type": "stream",
     "text": [
      "sqlite:////Users/doug/Documents/pythonProjects/abacus/abacus.db\n"
     ]
    }
   ],
   "execution_count": 1
  },
  {
   "metadata": {
    "ExecuteTime": {
     "end_time": "2024-08-15T16:13:26.009556Z",
     "start_time": "2024-08-15T16:13:25.987806Z"
    }
   },
   "cell_type": "code",
   "source": [
    "with app.app_context(), db.session.no_autoflush:\n",
    "    metrics = metrics_schema.load(graphql_metrics)\n",
    "    dimensions = dimensions_schema.load(graphql_dimensions)"
   ],
   "id": "9c709aa316b29b2b",
   "outputs": [],
   "execution_count": 2
  },
  {
   "metadata": {
    "ExecuteTime": {
     "end_time": "2024-08-15T16:13:43.512580Z",
     "start_time": "2024-08-15T16:13:43.505726Z"
    }
   },
   "cell_type": "code",
   "source": [
    "tablename = \"rental_performance\"\n",
    "schema = \"dbt_looker\"\n",
    "sql_trigger_value = \"SELECT FLOOR(((TIMESTAMP_DIFF(CURRENT_TIMESTAMP(),'1970-01-01 00:00:00',SECOND)) - 60*60*10)/(60*60*24))\"\n",
    "derived_table = {}\n",
    "derived_table['sql'] = f\"select * from {schema}.{tablename}\"\n",
    "derived_table['sql_trigger_value'] = sql_trigger_value\n",
    "derived_table = {\"derived_table\": derived_table}\n",
    "\n",
    "view = {\"name\": tablename}\n",
    "\n",
    "view.update(derived_table)\n",
    "view.update({\"measures\": [lm.to_looker(metric) for metric in metrics]})\n",
    "view.update({\"dimensions\": [lm.to_looker(dimension) for dimension in dimensions]})\n",
    "\n",
    "view = {\"view\": view}\n",
    "print(type(view))\n",
    "lookml = lkml.dump(view)\n",
    "\n",
    "with open('explore.lkml', 'w') as f:\n",
    "    for line in lookml:\n",
    "        f.write(f\"{line}\")\n"
   ],
   "id": "4dcfac74896e4d33",
   "outputs": [
    {
     "name": "stdout",
     "output_type": "stream",
     "text": [
      "{'expr': None}\n",
      "<class 'dict'>\n"
     ]
    }
   ],
   "execution_count": 4
  },
  {
   "metadata": {
    "ExecuteTime": {
     "end_time": "2024-08-15T16:08:58.069545Z",
     "start_time": "2024-08-15T16:08:58.067156Z"
    }
   },
   "cell_type": "code",
   "source": "",
   "id": "34ae061fb7a08679",
   "outputs": [],
   "execution_count": 9
  }
 ],
 "metadata": {
  "kernelspec": {
   "display_name": "Python 3",
   "language": "python",
   "name": "python3"
  },
  "language_info": {
   "codemirror_mode": {
    "name": "ipython",
    "version": 2
   },
   "file_extension": ".py",
   "mimetype": "text/x-python",
   "name": "python",
   "nbconvert_exporter": "python",
   "pygments_lexer": "ipython2",
   "version": "2.7.6"
  }
 },
 "nbformat": 4,
 "nbformat_minor": 5
}
