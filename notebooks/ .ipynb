{
 "cells": [
  {
   "cell_type": "code",
   "id": "initial_id",
   "metadata": {
    "collapsed": true,
    "ExecuteTime": {
     "end_time": "2024-09-02T22:45:06.773251Z",
     "start_time": "2024-09-02T22:45:06.443196Z"
    }
   },
   "source": [
    "from app import db, app\n",
    "from shapely.geometry import shape\n"
   ],
   "execution_count": 1,
   "outputs": []
  },
  {
   "metadata": {
    "ExecuteTime": {
     "end_time": "2024-09-02T19:10:34.578317Z",
     "start_time": "2024-09-02T19:10:34.570190Z"
    }
   },
   "cell_type": "code",
   "source": [
    "with app.app_context():\n",
    "    db.drop_all()\n",
    "    db.create_all()"
   ],
   "id": "d77625d589160bbc",
   "execution_count": 4,
   "outputs": []
  },
  {
   "metadata": {
    "ExecuteTime": {
     "end_time": "2024-09-02T22:45:59.234327Z",
     "start_time": "2024-09-02T22:45:59.195623Z"
    }
   },
   "cell_type": "code",
   "source": [
    "from geoalchemy2.functions import ST_GeomFromGeoJSON\n",
    "import geojson\n",
    "from app.models import Shapefile\n",
    "import os\n",
    "import yaml\n",
    "\n",
    "toronto = yaml.safe_load(open('localities.yml'))['toronto']\n",
    "\n",
    "os.environ.get('WHOSONFIRST_PATH')\n",
    "\n",
    "\n",
    "def get_path_from_id(id):\n",
    "    s = str(id)\n",
    "    id_path = '/data/' + s[:3] + '/' + s[3:6] + '/' + s[6:9]\n",
    "    if len(s) > 9:  id_path += '/' + s[9:]\n",
    "    return os.environ.get('WHOSONFIRST_PATH') + id_path + '/' + s + '.geojson'\n",
    "\n",
    "\n",
    "get_path_from_id(toronto)\n",
    "with open(get_path_from_id(toronto)) as f:\n",
    "    gj = geojson.load(f)\n",
    "    bbox = gj.bbox\n",
    "    properties = gj.properties\n",
    "    geometry = shape(gj.geometry).wkt\n",
    "    id = gj.id\n",
    "\n",
    "shape = Shapefile(id=id, geometry=geometry, bbox=bbox)\n",
    "\n"
   ],
   "id": "4086f61304d9f368",
   "execution_count": 4,
   "outputs": []
  },
  {
   "metadata": {
    "ExecuteTime": {
     "end_time": "2024-09-02T21:00:06.670841Z",
     "start_time": "2024-09-02T21:00:06.665561Z"
    }
   },
   "cell_type": "code",
   "source": "type(shape.geometry)\n",
   "id": "2bac3fdbddfb746f",
   "execution_count": 3,
   "outputs": []
  },
  {
   "metadata": {
    "ExecuteTime": {
     "end_time": "2024-09-02T22:46:02.706475Z",
     "start_time": "2024-09-02T22:46:02.625882Z"
    }
   },
   "cell_type": "code",
   "source": [
    "\n",
    "with app.app_context():\n",
    "    db.session.add(shape)\n",
    "    db.session.commit()"
   ],
   "id": "df2930e8416cc747",
   "execution_count": 5,
   "outputs": []
  },
  {
   "metadata": {
    "ExecuteTime": {
     "end_time": "2024-09-02T22:46:41.422450Z",
     "start_time": "2024-09-02T22:46:41.344296Z"
    }
   },
   "cell_type": "code",
   "source": "shape.bbox",
   "id": "43a9d59841b025cd",
   "execution_count": 6,
   "outputs": []
  },
  {
   "metadata": {},
   "cell_type": "code",
   "execution_count": null,
   "source": "",
   "id": "3d80d804a81a8315",
   "outputs": []
  }
 ],
 "metadata": {
  "kernelspec": {
   "display_name": "Python 3",
   "language": "python",
   "name": "python3"
  },
  "language_info": {
   "codemirror_mode": {
    "name": "ipython",
    "version": 2
   },
   "file_extension": ".py",
   "mimetype": "text/x-python",
   "name": "python",
   "nbconvert_exporter": "python",
   "pygments_lexer": "ipython2",
   "version": "2.7.6"
  }
 },
 "nbformat": 4,
 "nbformat_minor": 5
}
