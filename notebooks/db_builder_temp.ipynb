{
 "cells": [
  {
   "cell_type": "code",
   "id": "initial_id",
   "metadata": {
    "collapsed": true,
    "ExecuteTime": {
     "end_time": "2024-09-02T22:45:06.773251Z",
     "start_time": "2024-09-02T22:45:06.443196Z"
    }
   },
   "source": [
    "from app import db, app\n",
    "from shapely.geometry import shape\n"
   ],
   "outputs": [
    {
     "name": "stdout",
     "output_type": "stream",
     "text": [
      "sqlite:////Users/dug/GitHub/geoShapeFiles/abacus.db\n"
     ]
    }
   ],
   "execution_count": 1
  },
  {
   "metadata": {
    "ExecuteTime": {
     "end_time": "2024-09-02T19:10:34.578317Z",
     "start_time": "2024-09-02T19:10:34.570190Z"
    }
   },
   "cell_type": "code",
   "source": [
    "with app.app_context():\n",
    "    db.drop_all()\n",
    "    db.create_all()"
   ],
   "id": "d77625d589160bbc",
   "outputs": [
    {
     "name": "stderr",
     "output_type": "stream",
     "text": [
      "CheckSpatialIndex SQL error: no such table: geometry_columns\n",
      "DiscardGeometryColumn: \"no such table: geometry_columns\"\n",
      "RecoverGeometryColumn() error: argument 4 [geometry_type] has an illegal value\n",
      "CreateSpatialIndex() error: \"no such table: geometry_columns\"\n"
     ]
    }
   ],
   "execution_count": 4
  },
  {
   "metadata": {
    "ExecuteTime": {
     "end_time": "2024-09-02T22:45:59.234327Z",
     "start_time": "2024-09-02T22:45:59.195623Z"
    }
   },
   "cell_type": "code",
   "source": [
    "from geoalchemy2.functions import ST_GeomFromGeoJSON\n",
    "import geojson\n",
    "from app.models import Shapefile\n",
    "import os\n",
    "import yaml\n",
    "\n",
    "toronto = yaml.safe_load(open('localities.yml'))['toronto']\n",
    "\n",
    "os.environ.get('WHOSONFIRST_PATH')\n",
    "\n",
    "\n",
    "def get_path_from_id(id):\n",
    "    s = str(id)\n",
    "    id_path = '/data/' + s[:3] + '/' + s[3:6] + '/' + s[6:9]\n",
    "    if len(s) > 9:  id_path += '/' + s[9:]\n",
    "    return os.environ.get('WHOSONFIRST_PATH') + id_path + '/' + s + '.geojson'\n",
    "\n",
    "\n",
    "get_path_from_id(toronto)\n",
    "with open(get_path_from_id(toronto)) as f:\n",
    "    gj = geojson.load(f)\n",
    "    bbox = gj.bbox\n",
    "    properties = gj.properties\n",
    "    geometry = shape(gj.geometry).wkt\n",
    "    id = gj.id\n",
    "\n",
    "shape = Shapefile(id=id, geometry=geometry, bbox=bbox)\n",
    "\n"
   ],
   "id": "4086f61304d9f368",
   "outputs": [],
   "execution_count": 4
  },
  {
   "metadata": {
    "ExecuteTime": {
     "end_time": "2024-09-02T21:00:06.670841Z",
     "start_time": "2024-09-02T21:00:06.665561Z"
    }
   },
   "cell_type": "code",
   "source": "type(shape.geometry)\n",
   "id": "2bac3fdbddfb746f",
   "outputs": [
    {
     "data": {
      "text/plain": [
       "str"
      ]
     },
     "execution_count": 3,
     "metadata": {},
     "output_type": "execute_result"
    }
   ],
   "execution_count": 3
  },
  {
   "metadata": {
    "ExecuteTime": {
     "end_time": "2024-09-02T22:46:02.706475Z",
     "start_time": "2024-09-02T22:46:02.625882Z"
    }
   },
   "cell_type": "code",
   "source": [
    "\n",
    "with app.app_context():\n",
    "    db.session.add(shape)\n",
    "    db.session.commit()"
   ],
   "id": "df2930e8416cc747",
   "outputs": [],
   "execution_count": 5
  },
  {
   "metadata": {
    "ExecuteTime": {
     "end_time": "2024-09-02T22:46:41.422450Z",
     "start_time": "2024-09-02T22:46:41.344296Z"
    }
   },
   "cell_type": "code",
   "source": "shape.bbox",
   "id": "43a9d59841b025cd",
   "outputs": [
    {
     "ename": "DetachedInstanceError",
     "evalue": "Instance <Shapefile at 0x106c36960> is not bound to a Session; attribute refresh operation cannot proceed (Background on this error at: https://sqlalche.me/e/20/bhk3)",
     "output_type": "error",
     "traceback": [
      "\u001B[0;31m---------------------------------------------------------------------------\u001B[0m",
      "\u001B[0;31mDetachedInstanceError\u001B[0m                     Traceback (most recent call last)",
      "Cell \u001B[0;32mIn[6], line 1\u001B[0m\n\u001B[0;32m----> 1\u001B[0m \u001B[43mshape\u001B[49m\u001B[38;5;241;43m.\u001B[39;49m\u001B[43mbbox\u001B[49m\n",
      "File \u001B[0;32m~/GitHub/geoShapeFiles/.venv/lib/python3.12/site-packages/sqlalchemy/orm/attributes.py:566\u001B[0m, in \u001B[0;36mInstrumentedAttribute.__get__\u001B[0;34m(self, instance, owner)\u001B[0m\n\u001B[1;32m    564\u001B[0m \u001B[38;5;28;01mexcept\u001B[39;00m \u001B[38;5;167;01mAttributeError\u001B[39;00m \u001B[38;5;28;01mas\u001B[39;00m err:\n\u001B[1;32m    565\u001B[0m     \u001B[38;5;28;01mraise\u001B[39;00m orm_exc\u001B[38;5;241m.\u001B[39mUnmappedInstanceError(instance) \u001B[38;5;28;01mfrom\u001B[39;00m \u001B[38;5;21;01merr\u001B[39;00m\n\u001B[0;32m--> 566\u001B[0m \u001B[38;5;28;01mreturn\u001B[39;00m \u001B[38;5;28;43mself\u001B[39;49m\u001B[38;5;241;43m.\u001B[39;49m\u001B[43mimpl\u001B[49m\u001B[38;5;241;43m.\u001B[39;49m\u001B[43mget\u001B[49m\u001B[43m(\u001B[49m\u001B[43mstate\u001B[49m\u001B[43m,\u001B[49m\u001B[43m \u001B[49m\u001B[43mdict_\u001B[49m\u001B[43m)\u001B[49m\n",
      "File \u001B[0;32m~/GitHub/geoShapeFiles/.venv/lib/python3.12/site-packages/sqlalchemy/orm/attributes.py:1086\u001B[0m, in \u001B[0;36mAttributeImpl.get\u001B[0;34m(self, state, dict_, passive)\u001B[0m\n\u001B[1;32m   1083\u001B[0m \u001B[38;5;28;01mif\u001B[39;00m \u001B[38;5;129;01mnot\u001B[39;00m passive \u001B[38;5;241m&\u001B[39m CALLABLES_OK:\n\u001B[1;32m   1084\u001B[0m     \u001B[38;5;28;01mreturn\u001B[39;00m PASSIVE_NO_RESULT\n\u001B[0;32m-> 1086\u001B[0m value \u001B[38;5;241m=\u001B[39m \u001B[38;5;28;43mself\u001B[39;49m\u001B[38;5;241;43m.\u001B[39;49m\u001B[43m_fire_loader_callables\u001B[49m\u001B[43m(\u001B[49m\u001B[43mstate\u001B[49m\u001B[43m,\u001B[49m\u001B[43m \u001B[49m\u001B[43mkey\u001B[49m\u001B[43m,\u001B[49m\u001B[43m \u001B[49m\u001B[43mpassive\u001B[49m\u001B[43m)\u001B[49m\n\u001B[1;32m   1088\u001B[0m \u001B[38;5;28;01mif\u001B[39;00m value \u001B[38;5;129;01mis\u001B[39;00m PASSIVE_NO_RESULT \u001B[38;5;129;01mor\u001B[39;00m value \u001B[38;5;129;01mis\u001B[39;00m NO_VALUE:\n\u001B[1;32m   1089\u001B[0m     \u001B[38;5;28;01mreturn\u001B[39;00m value\n",
      "File \u001B[0;32m~/GitHub/geoShapeFiles/.venv/lib/python3.12/site-packages/sqlalchemy/orm/attributes.py:1116\u001B[0m, in \u001B[0;36mAttributeImpl._fire_loader_callables\u001B[0;34m(self, state, key, passive)\u001B[0m\n\u001B[1;32m   1108\u001B[0m \u001B[38;5;28;01mdef\u001B[39;00m \u001B[38;5;21m_fire_loader_callables\u001B[39m(\n\u001B[1;32m   1109\u001B[0m     \u001B[38;5;28mself\u001B[39m, state: InstanceState[Any], key: \u001B[38;5;28mstr\u001B[39m, passive: PassiveFlag\n\u001B[1;32m   1110\u001B[0m ) \u001B[38;5;241m-\u001B[39m\u001B[38;5;241m>\u001B[39m Any:\n\u001B[1;32m   1111\u001B[0m     \u001B[38;5;28;01mif\u001B[39;00m (\n\u001B[1;32m   1112\u001B[0m         \u001B[38;5;28mself\u001B[39m\u001B[38;5;241m.\u001B[39maccepts_scalar_loader\n\u001B[1;32m   1113\u001B[0m         \u001B[38;5;129;01mand\u001B[39;00m \u001B[38;5;28mself\u001B[39m\u001B[38;5;241m.\u001B[39mload_on_unexpire\n\u001B[1;32m   1114\u001B[0m         \u001B[38;5;129;01mand\u001B[39;00m key \u001B[38;5;129;01min\u001B[39;00m state\u001B[38;5;241m.\u001B[39mexpired_attributes\n\u001B[1;32m   1115\u001B[0m     ):\n\u001B[0;32m-> 1116\u001B[0m         \u001B[38;5;28;01mreturn\u001B[39;00m \u001B[43mstate\u001B[49m\u001B[38;5;241;43m.\u001B[39;49m\u001B[43m_load_expired\u001B[49m\u001B[43m(\u001B[49m\u001B[43mstate\u001B[49m\u001B[43m,\u001B[49m\u001B[43m \u001B[49m\u001B[43mpassive\u001B[49m\u001B[43m)\u001B[49m\n\u001B[1;32m   1117\u001B[0m     \u001B[38;5;28;01melif\u001B[39;00m key \u001B[38;5;129;01min\u001B[39;00m state\u001B[38;5;241m.\u001B[39mcallables:\n\u001B[1;32m   1118\u001B[0m         callable_ \u001B[38;5;241m=\u001B[39m state\u001B[38;5;241m.\u001B[39mcallables[key]\n",
      "File \u001B[0;32m~/GitHub/geoShapeFiles/.venv/lib/python3.12/site-packages/sqlalchemy/orm/state.py:803\u001B[0m, in \u001B[0;36mInstanceState._load_expired\u001B[0;34m(self, state, passive)\u001B[0m\n\u001B[1;32m    796\u001B[0m toload \u001B[38;5;241m=\u001B[39m \u001B[38;5;28mself\u001B[39m\u001B[38;5;241m.\u001B[39mexpired_attributes\u001B[38;5;241m.\u001B[39mintersection(\u001B[38;5;28mself\u001B[39m\u001B[38;5;241m.\u001B[39munmodified)\n\u001B[1;32m    797\u001B[0m toload \u001B[38;5;241m=\u001B[39m toload\u001B[38;5;241m.\u001B[39mdifference(\n\u001B[1;32m    798\u001B[0m     attr\n\u001B[1;32m    799\u001B[0m     \u001B[38;5;28;01mfor\u001B[39;00m attr \u001B[38;5;129;01min\u001B[39;00m toload\n\u001B[1;32m    800\u001B[0m     \u001B[38;5;28;01mif\u001B[39;00m \u001B[38;5;129;01mnot\u001B[39;00m \u001B[38;5;28mself\u001B[39m\u001B[38;5;241m.\u001B[39mmanager[attr]\u001B[38;5;241m.\u001B[39mimpl\u001B[38;5;241m.\u001B[39mload_on_unexpire\n\u001B[1;32m    801\u001B[0m )\n\u001B[0;32m--> 803\u001B[0m \u001B[38;5;28;43mself\u001B[39;49m\u001B[38;5;241;43m.\u001B[39;49m\u001B[43mmanager\u001B[49m\u001B[38;5;241;43m.\u001B[39;49m\u001B[43mexpired_attribute_loader\u001B[49m\u001B[43m(\u001B[49m\u001B[38;5;28;43mself\u001B[39;49m\u001B[43m,\u001B[49m\u001B[43m \u001B[49m\u001B[43mtoload\u001B[49m\u001B[43m,\u001B[49m\u001B[43m \u001B[49m\u001B[43mpassive\u001B[49m\u001B[43m)\u001B[49m\n\u001B[1;32m    805\u001B[0m \u001B[38;5;66;03m# if the loader failed, or this\u001B[39;00m\n\u001B[1;32m    806\u001B[0m \u001B[38;5;66;03m# instance state didn't have an identity,\u001B[39;00m\n\u001B[1;32m    807\u001B[0m \u001B[38;5;66;03m# the attributes still might be in the callables\u001B[39;00m\n\u001B[1;32m    808\u001B[0m \u001B[38;5;66;03m# dict.  ensure they are removed.\u001B[39;00m\n\u001B[1;32m    809\u001B[0m \u001B[38;5;28mself\u001B[39m\u001B[38;5;241m.\u001B[39mexpired_attributes\u001B[38;5;241m.\u001B[39mclear()\n",
      "File \u001B[0;32m~/GitHub/geoShapeFiles/.venv/lib/python3.12/site-packages/sqlalchemy/orm/loading.py:1603\u001B[0m, in \u001B[0;36mload_scalar_attributes\u001B[0;34m(mapper, state, attribute_names, passive)\u001B[0m\n\u001B[1;32m   1601\u001B[0m session \u001B[38;5;241m=\u001B[39m state\u001B[38;5;241m.\u001B[39msession\n\u001B[1;32m   1602\u001B[0m \u001B[38;5;28;01mif\u001B[39;00m \u001B[38;5;129;01mnot\u001B[39;00m session:\n\u001B[0;32m-> 1603\u001B[0m     \u001B[38;5;28;01mraise\u001B[39;00m orm_exc\u001B[38;5;241m.\u001B[39mDetachedInstanceError(\n\u001B[1;32m   1604\u001B[0m         \u001B[38;5;124m\"\u001B[39m\u001B[38;5;124mInstance \u001B[39m\u001B[38;5;132;01m%s\u001B[39;00m\u001B[38;5;124m is not bound to a Session; \u001B[39m\u001B[38;5;124m\"\u001B[39m\n\u001B[1;32m   1605\u001B[0m         \u001B[38;5;124m\"\u001B[39m\u001B[38;5;124mattribute refresh operation cannot proceed\u001B[39m\u001B[38;5;124m\"\u001B[39m \u001B[38;5;241m%\u001B[39m (state_str(state))\n\u001B[1;32m   1606\u001B[0m     )\n\u001B[1;32m   1608\u001B[0m no_autoflush \u001B[38;5;241m=\u001B[39m \u001B[38;5;28mbool\u001B[39m(passive \u001B[38;5;241m&\u001B[39m attributes\u001B[38;5;241m.\u001B[39mNO_AUTOFLUSH)\n\u001B[1;32m   1610\u001B[0m \u001B[38;5;66;03m# in the case of inheritance, particularly concrete and abstract\u001B[39;00m\n\u001B[1;32m   1611\u001B[0m \u001B[38;5;66;03m# concrete inheritance, the class manager might have some keys\u001B[39;00m\n\u001B[1;32m   1612\u001B[0m \u001B[38;5;66;03m# of attributes on the superclass that we didn't actually map.\u001B[39;00m\n\u001B[1;32m   1613\u001B[0m \u001B[38;5;66;03m# These could be mapped as \"concrete, don't load\" or could be completely\u001B[39;00m\n\u001B[1;32m   1614\u001B[0m \u001B[38;5;66;03m# excluded from the mapping and we know nothing about them.  Filter them\u001B[39;00m\n\u001B[1;32m   1615\u001B[0m \u001B[38;5;66;03m# here to prevent them from coming through.\u001B[39;00m\n",
      "\u001B[0;31mDetachedInstanceError\u001B[0m: Instance <Shapefile at 0x106c36960> is not bound to a Session; attribute refresh operation cannot proceed (Background on this error at: https://sqlalche.me/e/20/bhk3)"
     ]
    }
   ],
   "execution_count": 6
  },
  {
   "metadata": {},
   "cell_type": "code",
   "outputs": [],
   "execution_count": null,
   "source": "",
   "id": "3d80d804a81a8315"
  }
 ],
 "metadata": {
  "kernelspec": {
   "display_name": "Python 3",
   "language": "python",
   "name": "python3"
  },
  "language_info": {
   "codemirror_mode": {
    "name": "ipython",
    "version": 2
   },
   "file_extension": ".py",
   "mimetype": "text/x-python",
   "name": "python",
   "nbconvert_exporter": "python",
   "pygments_lexer": "ipython2",
   "version": "2.7.6"
  }
 },
 "nbformat": 4,
 "nbformat_minor": 5
}
