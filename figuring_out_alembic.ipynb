{
 "cells": [
  {
   "cell_type": "code",
   "id": "initial_id",
   "metadata": {
    "collapsed": true,
    "ExecuteTime": {
     "end_time": "2024-09-20T13:35:20.901285Z",
     "start_time": "2024-09-20T13:35:20.453244Z"
    }
   },
   "source": [
    "from app import app, db\n",
    "from app.models import Shapefile, shapefile_schema\n",
    "import app.wof as wof\n",
    "import geojson\n",
    "from shapely.geometry import shape\n",
    "from geoalchemy2.shape import to_shape\n",
    "from sqlalchemy import text, select\n",
    "import yaml\n",
    "\n",
    "cities = yaml.safe_load(open('locality_configs.yml'))['reporting_market']\n",
    "\n",
    "wof_ids = []\n",
    "\n",
    "for city in cities:\n",
    "    wof_ids.append(city['id'])\n",
    "wof_ids = tuple(wof_ids)\n",
    "wof_items = wof.from_ids(wof_ids)\n",
    "\n",
    "with app.app_context() as session:\n",
    "    query = select(Shapefile.id)\n",
    "    existing_cities = db.session.scalars(query).all()\n",
    "    \n",
    "    for wof_item in wof_items:\n",
    "        shapefiles = []\n",
    "        if wof_item.id not in existing_cities:\n",
    "            shapefiles.append(\n",
    "                Shapefile(\n",
    "                    id=wof_item.id,\n",
    "                    name=wof_item.name,\n",
    "                    placetype=wof_item.placetype,\n",
    "                    parent=wof_item.parent,\n",
    "                    geometry=shape(geojson.loads(wof_item.geojson).geometry).wkt,\n",
    "                    bbox=\"\".join(str(geojson.loads(wof_item.geojson).bbox))\n",
    "                )\n",
    "            )\n"
   ],
   "outputs": [],
   "execution_count": 3
  },
  {
   "metadata": {
    "ExecuteTime": {
     "end_time": "2024-09-20T13:35:51.291014Z",
     "start_time": "2024-09-20T13:35:45.671888Z"
    }
   },
   "cell_type": "code",
   "source": "",
   "id": "559fb7cea662bd82",
   "outputs": [
    {
     "ename": "OperationalError",
     "evalue": "(sqlite3.OperationalError) database is locked\n(Background on this error at: https://sqlalche.me/e/20/e3q8)",
     "output_type": "error",
     "traceback": [
      "\u001B[0;31m---------------------------------------------------------------------------\u001B[0m",
      "\u001B[0;31mOperationalError\u001B[0m                          Traceback (most recent call last)",
      "File \u001B[0;32m~/Documents/pythonProjects/geoabacus/.venv/lib/python3.12/site-packages/sqlalchemy/engine/base.py:1144\u001B[0m, in \u001B[0;36mConnection._commit_impl\u001B[0;34m(self)\u001B[0m\n\u001B[1;32m   1143\u001B[0m \u001B[38;5;28;01mtry\u001B[39;00m:\n\u001B[0;32m-> 1144\u001B[0m     \u001B[38;5;28;43mself\u001B[39;49m\u001B[38;5;241;43m.\u001B[39;49m\u001B[43mengine\u001B[49m\u001B[38;5;241;43m.\u001B[39;49m\u001B[43mdialect\u001B[49m\u001B[38;5;241;43m.\u001B[39;49m\u001B[43mdo_commit\u001B[49m\u001B[43m(\u001B[49m\u001B[38;5;28;43mself\u001B[39;49m\u001B[38;5;241;43m.\u001B[39;49m\u001B[43mconnection\u001B[49m\u001B[43m)\u001B[49m\n\u001B[1;32m   1145\u001B[0m \u001B[38;5;28;01mexcept\u001B[39;00m \u001B[38;5;167;01mBaseException\u001B[39;00m \u001B[38;5;28;01mas\u001B[39;00m e:\n",
      "File \u001B[0;32m~/Documents/pythonProjects/geoabacus/.venv/lib/python3.12/site-packages/sqlalchemy/engine/default.py:702\u001B[0m, in \u001B[0;36mDefaultDialect.do_commit\u001B[0;34m(self, dbapi_connection)\u001B[0m\n\u001B[1;32m    701\u001B[0m \u001B[38;5;28;01mdef\u001B[39;00m \u001B[38;5;21mdo_commit\u001B[39m(\u001B[38;5;28mself\u001B[39m, dbapi_connection):\n\u001B[0;32m--> 702\u001B[0m     \u001B[43mdbapi_connection\u001B[49m\u001B[38;5;241;43m.\u001B[39;49m\u001B[43mcommit\u001B[49m\u001B[43m(\u001B[49m\u001B[43m)\u001B[49m\n",
      "\u001B[0;31mOperationalError\u001B[0m: database is locked",
      "\nThe above exception was the direct cause of the following exception:\n",
      "\u001B[0;31mOperationalError\u001B[0m                          Traceback (most recent call last)",
      "Cell \u001B[0;32mIn[4], line 3\u001B[0m\n\u001B[1;32m      1\u001B[0m \u001B[38;5;28;01mwith\u001B[39;00m app\u001B[38;5;241m.\u001B[39mapp_context() \u001B[38;5;28;01mas\u001B[39;00m session:\n\u001B[1;32m      2\u001B[0m     db\u001B[38;5;241m.\u001B[39msession\u001B[38;5;241m.\u001B[39madd_all(shapefiles)\n\u001B[0;32m----> 3\u001B[0m     \u001B[43mdb\u001B[49m\u001B[38;5;241;43m.\u001B[39;49m\u001B[43msession\u001B[49m\u001B[38;5;241;43m.\u001B[39;49m\u001B[43mcommit\u001B[49m\u001B[43m(\u001B[49m\u001B[43m)\u001B[49m\n",
      "File \u001B[0;32m~/Documents/pythonProjects/geoabacus/.venv/lib/python3.12/site-packages/sqlalchemy/orm/scoping.py:597\u001B[0m, in \u001B[0;36mscoped_session.commit\u001B[0;34m(self)\u001B[0m\n\u001B[1;32m    558\u001B[0m \u001B[38;5;28;01mdef\u001B[39;00m \u001B[38;5;21mcommit\u001B[39m(\u001B[38;5;28mself\u001B[39m) \u001B[38;5;241m-\u001B[39m\u001B[38;5;241m>\u001B[39m \u001B[38;5;28;01mNone\u001B[39;00m:\n\u001B[1;32m    559\u001B[0m \u001B[38;5;250m    \u001B[39m\u001B[38;5;124mr\u001B[39m\u001B[38;5;124;03m\"\"\"Flush pending changes and commit the current transaction.\u001B[39;00m\n\u001B[1;32m    560\u001B[0m \n\u001B[1;32m    561\u001B[0m \u001B[38;5;124;03m    .. container:: class_bases\u001B[39;00m\n\u001B[0;32m   (...)\u001B[0m\n\u001B[1;32m    594\u001B[0m \n\u001B[1;32m    595\u001B[0m \u001B[38;5;124;03m    \"\"\"\u001B[39;00m  \u001B[38;5;66;03m# noqa: E501\u001B[39;00m\n\u001B[0;32m--> 597\u001B[0m     \u001B[38;5;28;01mreturn\u001B[39;00m \u001B[38;5;28;43mself\u001B[39;49m\u001B[38;5;241;43m.\u001B[39;49m\u001B[43m_proxied\u001B[49m\u001B[38;5;241;43m.\u001B[39;49m\u001B[43mcommit\u001B[49m\u001B[43m(\u001B[49m\u001B[43m)\u001B[49m\n",
      "File \u001B[0;32m~/Documents/pythonProjects/geoabacus/.venv/lib/python3.12/site-packages/sqlalchemy/orm/session.py:2028\u001B[0m, in \u001B[0;36mSession.commit\u001B[0;34m(self)\u001B[0m\n\u001B[1;32m   2025\u001B[0m \u001B[38;5;28;01mif\u001B[39;00m trans \u001B[38;5;129;01mis\u001B[39;00m \u001B[38;5;28;01mNone\u001B[39;00m:\n\u001B[1;32m   2026\u001B[0m     trans \u001B[38;5;241m=\u001B[39m \u001B[38;5;28mself\u001B[39m\u001B[38;5;241m.\u001B[39m_autobegin_t()\n\u001B[0;32m-> 2028\u001B[0m \u001B[43mtrans\u001B[49m\u001B[38;5;241;43m.\u001B[39;49m\u001B[43mcommit\u001B[49m\u001B[43m(\u001B[49m\u001B[43m_to_root\u001B[49m\u001B[38;5;241;43m=\u001B[39;49m\u001B[38;5;28;43;01mTrue\u001B[39;49;00m\u001B[43m)\u001B[49m\n",
      "File \u001B[0;32m<string>:2\u001B[0m, in \u001B[0;36mcommit\u001B[0;34m(self, _to_root)\u001B[0m\n",
      "File \u001B[0;32m~/Documents/pythonProjects/geoabacus/.venv/lib/python3.12/site-packages/sqlalchemy/orm/state_changes.py:139\u001B[0m, in \u001B[0;36m_StateChange.declare_states.<locals>._go\u001B[0;34m(fn, self, *arg, **kw)\u001B[0m\n\u001B[1;32m    137\u001B[0m \u001B[38;5;28mself\u001B[39m\u001B[38;5;241m.\u001B[39m_next_state \u001B[38;5;241m=\u001B[39m _StateChangeStates\u001B[38;5;241m.\u001B[39mCHANGE_IN_PROGRESS\n\u001B[1;32m    138\u001B[0m \u001B[38;5;28;01mtry\u001B[39;00m:\n\u001B[0;32m--> 139\u001B[0m     ret_value \u001B[38;5;241m=\u001B[39m \u001B[43mfn\u001B[49m\u001B[43m(\u001B[49m\u001B[38;5;28;43mself\u001B[39;49m\u001B[43m,\u001B[49m\u001B[43m \u001B[49m\u001B[38;5;241;43m*\u001B[39;49m\u001B[43marg\u001B[49m\u001B[43m,\u001B[49m\u001B[43m \u001B[49m\u001B[38;5;241;43m*\u001B[39;49m\u001B[38;5;241;43m*\u001B[39;49m\u001B[43mkw\u001B[49m\u001B[43m)\u001B[49m\n\u001B[1;32m    140\u001B[0m \u001B[38;5;28;01mexcept\u001B[39;00m:\n\u001B[1;32m    141\u001B[0m     \u001B[38;5;28;01mraise\u001B[39;00m\n",
      "File \u001B[0;32m~/Documents/pythonProjects/geoabacus/.venv/lib/python3.12/site-packages/sqlalchemy/orm/session.py:1320\u001B[0m, in \u001B[0;36mSessionTransaction.commit\u001B[0;34m(self, _to_root)\u001B[0m\n\u001B[1;32m   1316\u001B[0m \u001B[38;5;28;01mfor\u001B[39;00m conn, trans, should_commit, autoclose \u001B[38;5;129;01min\u001B[39;00m \u001B[38;5;28mset\u001B[39m(\n\u001B[1;32m   1317\u001B[0m     \u001B[38;5;28mself\u001B[39m\u001B[38;5;241m.\u001B[39m_connections\u001B[38;5;241m.\u001B[39mvalues()\n\u001B[1;32m   1318\u001B[0m ):\n\u001B[1;32m   1319\u001B[0m     \u001B[38;5;28;01mif\u001B[39;00m should_commit:\n\u001B[0;32m-> 1320\u001B[0m         \u001B[43mtrans\u001B[49m\u001B[38;5;241;43m.\u001B[39;49m\u001B[43mcommit\u001B[49m\u001B[43m(\u001B[49m\u001B[43m)\u001B[49m\n\u001B[1;32m   1322\u001B[0m \u001B[38;5;28mself\u001B[39m\u001B[38;5;241m.\u001B[39m_state \u001B[38;5;241m=\u001B[39m SessionTransactionState\u001B[38;5;241m.\u001B[39mCOMMITTED\n\u001B[1;32m   1323\u001B[0m \u001B[38;5;28mself\u001B[39m\u001B[38;5;241m.\u001B[39msession\u001B[38;5;241m.\u001B[39mdispatch\u001B[38;5;241m.\u001B[39mafter_commit(\u001B[38;5;28mself\u001B[39m\u001B[38;5;241m.\u001B[39msession)\n",
      "File \u001B[0;32m~/Documents/pythonProjects/geoabacus/.venv/lib/python3.12/site-packages/sqlalchemy/engine/base.py:2631\u001B[0m, in \u001B[0;36mTransaction.commit\u001B[0;34m(self)\u001B[0m\n\u001B[1;32m   2615\u001B[0m \u001B[38;5;250m\u001B[39m\u001B[38;5;124;03m\"\"\"Commit this :class:`.Transaction`.\u001B[39;00m\n\u001B[1;32m   2616\u001B[0m \n\u001B[1;32m   2617\u001B[0m \u001B[38;5;124;03mThe implementation of this may vary based on the type of transaction in\u001B[39;00m\n\u001B[0;32m   (...)\u001B[0m\n\u001B[1;32m   2628\u001B[0m \n\u001B[1;32m   2629\u001B[0m \u001B[38;5;124;03m\"\"\"\u001B[39;00m\n\u001B[1;32m   2630\u001B[0m \u001B[38;5;28;01mtry\u001B[39;00m:\n\u001B[0;32m-> 2631\u001B[0m     \u001B[38;5;28;43mself\u001B[39;49m\u001B[38;5;241;43m.\u001B[39;49m\u001B[43m_do_commit\u001B[49m\u001B[43m(\u001B[49m\u001B[43m)\u001B[49m\n\u001B[1;32m   2632\u001B[0m \u001B[38;5;28;01mfinally\u001B[39;00m:\n\u001B[1;32m   2633\u001B[0m     \u001B[38;5;28;01massert\u001B[39;00m \u001B[38;5;129;01mnot\u001B[39;00m \u001B[38;5;28mself\u001B[39m\u001B[38;5;241m.\u001B[39mis_active\n",
      "File \u001B[0;32m~/Documents/pythonProjects/geoabacus/.venv/lib/python3.12/site-packages/sqlalchemy/engine/base.py:2736\u001B[0m, in \u001B[0;36mRootTransaction._do_commit\u001B[0;34m(self)\u001B[0m\n\u001B[1;32m   2733\u001B[0m \u001B[38;5;28;01massert\u001B[39;00m \u001B[38;5;28mself\u001B[39m\u001B[38;5;241m.\u001B[39mconnection\u001B[38;5;241m.\u001B[39m_transaction \u001B[38;5;129;01mis\u001B[39;00m \u001B[38;5;28mself\u001B[39m\n\u001B[1;32m   2735\u001B[0m \u001B[38;5;28;01mtry\u001B[39;00m:\n\u001B[0;32m-> 2736\u001B[0m     \u001B[38;5;28;43mself\u001B[39;49m\u001B[38;5;241;43m.\u001B[39;49m\u001B[43m_connection_commit_impl\u001B[49m\u001B[43m(\u001B[49m\u001B[43m)\u001B[49m\n\u001B[1;32m   2737\u001B[0m \u001B[38;5;28;01mfinally\u001B[39;00m:\n\u001B[1;32m   2738\u001B[0m     \u001B[38;5;66;03m# whether or not commit succeeds, cancel any\u001B[39;00m\n\u001B[1;32m   2739\u001B[0m     \u001B[38;5;66;03m# nested transactions, make this transaction \"inactive\"\u001B[39;00m\n\u001B[1;32m   2740\u001B[0m     \u001B[38;5;66;03m# and remove it as a reset agent\u001B[39;00m\n\u001B[1;32m   2741\u001B[0m     \u001B[38;5;28;01mif\u001B[39;00m \u001B[38;5;28mself\u001B[39m\u001B[38;5;241m.\u001B[39mconnection\u001B[38;5;241m.\u001B[39m_nested_transaction:\n",
      "File \u001B[0;32m~/Documents/pythonProjects/geoabacus/.venv/lib/python3.12/site-packages/sqlalchemy/engine/base.py:2707\u001B[0m, in \u001B[0;36mRootTransaction._connection_commit_impl\u001B[0;34m(self)\u001B[0m\n\u001B[1;32m   2706\u001B[0m \u001B[38;5;28;01mdef\u001B[39;00m \u001B[38;5;21m_connection_commit_impl\u001B[39m(\u001B[38;5;28mself\u001B[39m) \u001B[38;5;241m-\u001B[39m\u001B[38;5;241m>\u001B[39m \u001B[38;5;28;01mNone\u001B[39;00m:\n\u001B[0;32m-> 2707\u001B[0m     \u001B[38;5;28;43mself\u001B[39;49m\u001B[38;5;241;43m.\u001B[39;49m\u001B[43mconnection\u001B[49m\u001B[38;5;241;43m.\u001B[39;49m\u001B[43m_commit_impl\u001B[49m\u001B[43m(\u001B[49m\u001B[43m)\u001B[49m\n",
      "File \u001B[0;32m~/Documents/pythonProjects/geoabacus/.venv/lib/python3.12/site-packages/sqlalchemy/engine/base.py:1146\u001B[0m, in \u001B[0;36mConnection._commit_impl\u001B[0;34m(self)\u001B[0m\n\u001B[1;32m   1144\u001B[0m     \u001B[38;5;28mself\u001B[39m\u001B[38;5;241m.\u001B[39mengine\u001B[38;5;241m.\u001B[39mdialect\u001B[38;5;241m.\u001B[39mdo_commit(\u001B[38;5;28mself\u001B[39m\u001B[38;5;241m.\u001B[39mconnection)\n\u001B[1;32m   1145\u001B[0m \u001B[38;5;28;01mexcept\u001B[39;00m \u001B[38;5;167;01mBaseException\u001B[39;00m \u001B[38;5;28;01mas\u001B[39;00m e:\n\u001B[0;32m-> 1146\u001B[0m     \u001B[38;5;28;43mself\u001B[39;49m\u001B[38;5;241;43m.\u001B[39;49m\u001B[43m_handle_dbapi_exception\u001B[49m\u001B[43m(\u001B[49m\u001B[43me\u001B[49m\u001B[43m,\u001B[49m\u001B[43m \u001B[49m\u001B[38;5;28;43;01mNone\u001B[39;49;00m\u001B[43m,\u001B[49m\u001B[43m \u001B[49m\u001B[38;5;28;43;01mNone\u001B[39;49;00m\u001B[43m,\u001B[49m\u001B[43m \u001B[49m\u001B[38;5;28;43;01mNone\u001B[39;49;00m\u001B[43m,\u001B[49m\u001B[43m \u001B[49m\u001B[38;5;28;43;01mNone\u001B[39;49;00m\u001B[43m)\u001B[49m\n",
      "File \u001B[0;32m~/Documents/pythonProjects/geoabacus/.venv/lib/python3.12/site-packages/sqlalchemy/engine/base.py:2355\u001B[0m, in \u001B[0;36mConnection._handle_dbapi_exception\u001B[0;34m(self, e, statement, parameters, cursor, context, is_sub_exec)\u001B[0m\n\u001B[1;32m   2353\u001B[0m \u001B[38;5;28;01melif\u001B[39;00m should_wrap:\n\u001B[1;32m   2354\u001B[0m     \u001B[38;5;28;01massert\u001B[39;00m sqlalchemy_exception \u001B[38;5;129;01mis\u001B[39;00m \u001B[38;5;129;01mnot\u001B[39;00m \u001B[38;5;28;01mNone\u001B[39;00m\n\u001B[0;32m-> 2355\u001B[0m     \u001B[38;5;28;01mraise\u001B[39;00m sqlalchemy_exception\u001B[38;5;241m.\u001B[39mwith_traceback(exc_info[\u001B[38;5;241m2\u001B[39m]) \u001B[38;5;28;01mfrom\u001B[39;00m \u001B[38;5;21;01me\u001B[39;00m\n\u001B[1;32m   2356\u001B[0m \u001B[38;5;28;01melse\u001B[39;00m:\n\u001B[1;32m   2357\u001B[0m     \u001B[38;5;28;01massert\u001B[39;00m exc_info[\u001B[38;5;241m1\u001B[39m] \u001B[38;5;129;01mis\u001B[39;00m \u001B[38;5;129;01mnot\u001B[39;00m \u001B[38;5;28;01mNone\u001B[39;00m\n",
      "File \u001B[0;32m~/Documents/pythonProjects/geoabacus/.venv/lib/python3.12/site-packages/sqlalchemy/engine/base.py:1144\u001B[0m, in \u001B[0;36mConnection._commit_impl\u001B[0;34m(self)\u001B[0m\n\u001B[1;32m   1142\u001B[0m         \u001B[38;5;28mself\u001B[39m\u001B[38;5;241m.\u001B[39m_log_info(\u001B[38;5;124m\"\u001B[39m\u001B[38;5;124mCOMMIT\u001B[39m\u001B[38;5;124m\"\u001B[39m)\n\u001B[1;32m   1143\u001B[0m \u001B[38;5;28;01mtry\u001B[39;00m:\n\u001B[0;32m-> 1144\u001B[0m     \u001B[38;5;28;43mself\u001B[39;49m\u001B[38;5;241;43m.\u001B[39;49m\u001B[43mengine\u001B[49m\u001B[38;5;241;43m.\u001B[39;49m\u001B[43mdialect\u001B[49m\u001B[38;5;241;43m.\u001B[39;49m\u001B[43mdo_commit\u001B[49m\u001B[43m(\u001B[49m\u001B[38;5;28;43mself\u001B[39;49m\u001B[38;5;241;43m.\u001B[39;49m\u001B[43mconnection\u001B[49m\u001B[43m)\u001B[49m\n\u001B[1;32m   1145\u001B[0m \u001B[38;5;28;01mexcept\u001B[39;00m \u001B[38;5;167;01mBaseException\u001B[39;00m \u001B[38;5;28;01mas\u001B[39;00m e:\n\u001B[1;32m   1146\u001B[0m     \u001B[38;5;28mself\u001B[39m\u001B[38;5;241m.\u001B[39m_handle_dbapi_exception(e, \u001B[38;5;28;01mNone\u001B[39;00m, \u001B[38;5;28;01mNone\u001B[39;00m, \u001B[38;5;28;01mNone\u001B[39;00m, \u001B[38;5;28;01mNone\u001B[39;00m)\n",
      "File \u001B[0;32m~/Documents/pythonProjects/geoabacus/.venv/lib/python3.12/site-packages/sqlalchemy/engine/default.py:702\u001B[0m, in \u001B[0;36mDefaultDialect.do_commit\u001B[0;34m(self, dbapi_connection)\u001B[0m\n\u001B[1;32m    701\u001B[0m \u001B[38;5;28;01mdef\u001B[39;00m \u001B[38;5;21mdo_commit\u001B[39m(\u001B[38;5;28mself\u001B[39m, dbapi_connection):\n\u001B[0;32m--> 702\u001B[0m     \u001B[43mdbapi_connection\u001B[49m\u001B[38;5;241;43m.\u001B[39;49m\u001B[43mcommit\u001B[49m\u001B[43m(\u001B[49m\u001B[43m)\u001B[49m\n",
      "\u001B[0;31mOperationalError\u001B[0m: (sqlite3.OperationalError) database is locked\n(Background on this error at: https://sqlalche.me/e/20/e3q8)"
     ]
    }
   ],
   "execution_count": 4
  },
  {
   "metadata": {},
   "cell_type": "code",
   "outputs": [],
   "execution_count": null,
   "source": "",
   "id": "3930e8939f37c4ce"
  }
 ],
 "metadata": {
  "kernelspec": {
   "display_name": "Python 3",
   "language": "python",
   "name": "python3"
  },
  "language_info": {
   "codemirror_mode": {
    "name": "ipython",
    "version": 2
   },
   "file_extension": ".py",
   "mimetype": "text/x-python",
   "name": "python",
   "nbconvert_exporter": "python",
   "pygments_lexer": "ipython2",
   "version": "2.7.6"
  }
 },
 "nbformat": 4,
 "nbformat_minor": 5
}
