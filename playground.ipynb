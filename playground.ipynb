{
 "cells": [
  {
   "metadata": {
    "ExecuteTime": {
     "end_time": "2024-09-22T16:09:42.087346Z",
     "start_time": "2024-09-22T16:09:42.084588Z"
    }
   },
   "cell_type": "code",
   "source": [
    "import os\n",
    "from config import basedir\n",
    "basedir"
   ],
   "id": "ac33c8a205ad3ba7",
   "outputs": [
    {
     "data": {
      "text/plain": [
       "'/Users/dug/projects/geoabacus'"
      ]
     },
     "execution_count": 7,
     "metadata": {},
     "output_type": "execute_result"
    }
   ],
   "execution_count": 7
  },
  {
   "metadata": {
    "ExecuteTime": {
     "end_time": "2024-09-22T16:11:49.793822Z",
     "start_time": "2024-09-22T16:11:49.788724Z"
    }
   },
   "cell_type": "code",
   "source": "os.replace(f'{basedir}'+ '/env.py',f'{basedir}'+ '/migrations/env.py')\n",
   "id": "239e3d3097b717b",
   "outputs": [],
   "execution_count": 9
  },
  {
   "metadata": {},
   "cell_type": "code",
   "outputs": [],
   "execution_count": null,
   "source": "",
   "id": "c732519bfc7c691a"
  }
 ],
 "metadata": {
  "kernelspec": {
   "display_name": "Python 3",
   "language": "python",
   "name": "python3"
  },
  "language_info": {
   "codemirror_mode": {
    "name": "ipython",
    "version": 2
   },
   "file_extension": ".py",
   "mimetype": "text/x-python",
   "name": "python",
   "nbconvert_exporter": "python",
   "pygments_lexer": "ipython2",
   "version": "2.7.6"
  }
 },
 "nbformat": 4,
 "nbformat_minor": 5
}
