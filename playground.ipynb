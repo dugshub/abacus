{
 "cells": [
  {
   "metadata": {
    "ExecuteTime": {
     "end_time": "2024-09-16T22:57:41.613470Z",
     "start_time": "2024-09-16T22:57:41.129348Z"
    }
   },
   "cell_type": "code",
   "source": [
    "import app.wof as wof\n",
    "from app import app,ma,db\n",
    "from app.models import ShapefileSchema ,Shapefile"
   ],
   "id": "dfcd875659668c17",
   "outputs": [
    {
     "name": "stdout",
     "output_type": "stream",
     "text": [
      "sqlite:////Users/doug/Documents/pythonProjects/abacus/abacus.db\n"
     ]
    }
   ],
   "execution_count": 1
  },
  {
   "metadata": {
    "ExecuteTime": {
     "end_time": "2024-09-16T22:57:42.266748Z",
     "start_time": "2024-09-16T22:57:42.260855Z"
    }
   },
   "cell_type": "code",
   "source": "toronto = wof.get_geojson()[0]",
   "id": "1b9e4020e0b11676",
   "outputs": [],
   "execution_count": 2
  },
  {
   "metadata": {
    "ExecuteTime": {
     "end_time": "2024-09-16T22:57:42.844774Z",
     "start_time": "2024-09-16T22:57:42.841819Z"
    }
   },
   "cell_type": "code",
   "source": "shapefile_schema = ShapefileSchema()",
   "id": "a09bcd6c4bb7dc7d",
   "outputs": [],
   "execution_count": 3
  },
  {
   "metadata": {
    "ExecuteTime": {
     "end_time": "2024-09-16T22:57:44.259746Z",
     "start_time": "2024-09-16T22:57:44.094487Z"
    }
   },
   "cell_type": "code",
   "source": "to = shapefile_schema.load(toronto)",
   "id": "fa8d3485e2d10ce9",
   "outputs": [
    {
     "ename": "AttributeError",
     "evalue": "'DummySession' object has no attribute 'get'",
     "output_type": "error",
     "traceback": [
      "\u001B[0;31m---------------------------------------------------------------------------\u001B[0m",
      "\u001B[0;31mAttributeError\u001B[0m                            Traceback (most recent call last)",
      "Cell \u001B[0;32mIn[4], line 1\u001B[0m\n\u001B[0;32m----> 1\u001B[0m to \u001B[38;5;241m=\u001B[39m \u001B[43mshapefile_schema\u001B[49m\u001B[38;5;241;43m.\u001B[39;49m\u001B[43mload\u001B[49m\u001B[43m(\u001B[49m\u001B[43mtoronto\u001B[49m\u001B[43m)\u001B[49m\n",
      "File \u001B[0;32m~/Documents/pythonProjects/abacus/.venv/lib/python3.12/site-packages/marshmallow_sqlalchemy/load_instance_mixin.py:100\u001B[0m, in \u001B[0;36mLoadInstanceMixin.Schema.load\u001B[0;34m(self, data, session, instance, transient, **kwargs)\u001B[0m\n\u001B[1;32m     98\u001B[0m \u001B[38;5;28mself\u001B[39m\u001B[38;5;241m.\u001B[39minstance \u001B[38;5;241m=\u001B[39m instance \u001B[38;5;129;01mor\u001B[39;00m \u001B[38;5;28mself\u001B[39m\u001B[38;5;241m.\u001B[39minstance\n\u001B[1;32m     99\u001B[0m \u001B[38;5;28;01mtry\u001B[39;00m:\n\u001B[0;32m--> 100\u001B[0m     \u001B[38;5;28;01mreturn\u001B[39;00m \u001B[38;5;28;43msuper\u001B[39;49m\u001B[43m(\u001B[49m\u001B[43m)\u001B[49m\u001B[38;5;241;43m.\u001B[39;49m\u001B[43mload\u001B[49m\u001B[43m(\u001B[49m\u001B[43mdata\u001B[49m\u001B[43m,\u001B[49m\u001B[43m \u001B[49m\u001B[38;5;241;43m*\u001B[39;49m\u001B[38;5;241;43m*\u001B[39;49m\u001B[43mkwargs\u001B[49m\u001B[43m)\u001B[49m\n\u001B[1;32m    101\u001B[0m \u001B[38;5;28;01mfinally\u001B[39;00m:\n\u001B[1;32m    102\u001B[0m     \u001B[38;5;28mself\u001B[39m\u001B[38;5;241m.\u001B[39minstance \u001B[38;5;241m=\u001B[39m \u001B[38;5;28;01mNone\u001B[39;00m\n",
      "File \u001B[0;32m~/Documents/pythonProjects/abacus/.venv/lib/python3.12/site-packages/marshmallow/schema.py:726\u001B[0m, in \u001B[0;36mSchema.load\u001B[0;34m(self, data, many, partial, unknown)\u001B[0m\n\u001B[1;32m    695\u001B[0m \u001B[38;5;28;01mdef\u001B[39;00m \u001B[38;5;21mload\u001B[39m(\n\u001B[1;32m    696\u001B[0m     \u001B[38;5;28mself\u001B[39m,\n\u001B[1;32m    697\u001B[0m     data: (\n\u001B[0;32m   (...)\u001B[0m\n\u001B[1;32m    704\u001B[0m     unknown: \u001B[38;5;28mstr\u001B[39m \u001B[38;5;241m|\u001B[39m \u001B[38;5;28;01mNone\u001B[39;00m \u001B[38;5;241m=\u001B[39m \u001B[38;5;28;01mNone\u001B[39;00m,\n\u001B[1;32m    705\u001B[0m ):\n\u001B[1;32m    706\u001B[0m \u001B[38;5;250m    \u001B[39m\u001B[38;5;124;03m\"\"\"Deserialize a data structure to an object defined by this Schema's fields.\u001B[39;00m\n\u001B[1;32m    707\u001B[0m \n\u001B[1;32m    708\u001B[0m \u001B[38;5;124;03m    :param data: The data to deserialize.\u001B[39;00m\n\u001B[0;32m   (...)\u001B[0m\n\u001B[1;32m    724\u001B[0m \u001B[38;5;124;03m        if invalid data are passed.\u001B[39;00m\n\u001B[1;32m    725\u001B[0m \u001B[38;5;124;03m    \"\"\"\u001B[39;00m\n\u001B[0;32m--> 726\u001B[0m     \u001B[38;5;28;01mreturn\u001B[39;00m \u001B[38;5;28;43mself\u001B[39;49m\u001B[38;5;241;43m.\u001B[39;49m\u001B[43m_do_load\u001B[49m\u001B[43m(\u001B[49m\n\u001B[1;32m    727\u001B[0m \u001B[43m        \u001B[49m\u001B[43mdata\u001B[49m\u001B[43m,\u001B[49m\u001B[43m \u001B[49m\u001B[43mmany\u001B[49m\u001B[38;5;241;43m=\u001B[39;49m\u001B[43mmany\u001B[49m\u001B[43m,\u001B[49m\u001B[43m \u001B[49m\u001B[43mpartial\u001B[49m\u001B[38;5;241;43m=\u001B[39;49m\u001B[43mpartial\u001B[49m\u001B[43m,\u001B[49m\u001B[43m \u001B[49m\u001B[43munknown\u001B[49m\u001B[38;5;241;43m=\u001B[39;49m\u001B[43munknown\u001B[49m\u001B[43m,\u001B[49m\u001B[43m \u001B[49m\u001B[43mpostprocess\u001B[49m\u001B[38;5;241;43m=\u001B[39;49m\u001B[38;5;28;43;01mTrue\u001B[39;49;00m\n\u001B[1;32m    728\u001B[0m \u001B[43m    \u001B[49m\u001B[43m)\u001B[49m\n",
      "File \u001B[0;32m~/Documents/pythonProjects/abacus/.venv/lib/python3.12/site-packages/marshmallow/schema.py:901\u001B[0m, in \u001B[0;36mSchema._do_load\u001B[0;34m(self, data, many, partial, unknown, postprocess)\u001B[0m\n\u001B[1;32m    899\u001B[0m \u001B[38;5;28;01mif\u001B[39;00m \u001B[38;5;129;01mnot\u001B[39;00m errors \u001B[38;5;129;01mand\u001B[39;00m postprocess \u001B[38;5;129;01mand\u001B[39;00m \u001B[38;5;28mself\u001B[39m\u001B[38;5;241m.\u001B[39m_hooks[POST_LOAD]:\n\u001B[1;32m    900\u001B[0m     \u001B[38;5;28;01mtry\u001B[39;00m:\n\u001B[0;32m--> 901\u001B[0m         result \u001B[38;5;241m=\u001B[39m \u001B[38;5;28;43mself\u001B[39;49m\u001B[38;5;241;43m.\u001B[39;49m\u001B[43m_invoke_load_processors\u001B[49m\u001B[43m(\u001B[49m\n\u001B[1;32m    902\u001B[0m \u001B[43m            \u001B[49m\u001B[43mPOST_LOAD\u001B[49m\u001B[43m,\u001B[49m\n\u001B[1;32m    903\u001B[0m \u001B[43m            \u001B[49m\u001B[43mresult\u001B[49m\u001B[43m,\u001B[49m\n\u001B[1;32m    904\u001B[0m \u001B[43m            \u001B[49m\u001B[43mmany\u001B[49m\u001B[38;5;241;43m=\u001B[39;49m\u001B[43mmany\u001B[49m\u001B[43m,\u001B[49m\n\u001B[1;32m    905\u001B[0m \u001B[43m            \u001B[49m\u001B[43moriginal_data\u001B[49m\u001B[38;5;241;43m=\u001B[39;49m\u001B[43mdata\u001B[49m\u001B[43m,\u001B[49m\n\u001B[1;32m    906\u001B[0m \u001B[43m            \u001B[49m\u001B[43mpartial\u001B[49m\u001B[38;5;241;43m=\u001B[39;49m\u001B[43mpartial\u001B[49m\u001B[43m,\u001B[49m\n\u001B[1;32m    907\u001B[0m \u001B[43m        \u001B[49m\u001B[43m)\u001B[49m\n\u001B[1;32m    908\u001B[0m     \u001B[38;5;28;01mexcept\u001B[39;00m ValidationError \u001B[38;5;28;01mas\u001B[39;00m err:\n\u001B[1;32m    909\u001B[0m         errors \u001B[38;5;241m=\u001B[39m err\u001B[38;5;241m.\u001B[39mnormalized_messages()\n",
      "File \u001B[0;32m~/Documents/pythonProjects/abacus/.venv/lib/python3.12/site-packages/marshmallow/schema.py:1095\u001B[0m, in \u001B[0;36mSchema._invoke_load_processors\u001B[0;34m(self, tag, data, many, original_data, partial)\u001B[0m\n\u001B[1;32m   1076\u001B[0m \u001B[38;5;28;01mdef\u001B[39;00m \u001B[38;5;21m_invoke_load_processors\u001B[39m(\n\u001B[1;32m   1077\u001B[0m     \u001B[38;5;28mself\u001B[39m,\n\u001B[1;32m   1078\u001B[0m     tag: \u001B[38;5;28mstr\u001B[39m,\n\u001B[0;32m   (...)\u001B[0m\n\u001B[1;32m   1085\u001B[0m     \u001B[38;5;66;03m# This has to invert the order of the dump processors, so run the pass_many\u001B[39;00m\n\u001B[1;32m   1086\u001B[0m     \u001B[38;5;66;03m# processors first.\u001B[39;00m\n\u001B[1;32m   1087\u001B[0m     data \u001B[38;5;241m=\u001B[39m \u001B[38;5;28mself\u001B[39m\u001B[38;5;241m.\u001B[39m_invoke_processors(\n\u001B[1;32m   1088\u001B[0m         tag,\n\u001B[1;32m   1089\u001B[0m         pass_many\u001B[38;5;241m=\u001B[39m\u001B[38;5;28;01mTrue\u001B[39;00m,\n\u001B[0;32m   (...)\u001B[0m\n\u001B[1;32m   1093\u001B[0m         partial\u001B[38;5;241m=\u001B[39mpartial,\n\u001B[1;32m   1094\u001B[0m     )\n\u001B[0;32m-> 1095\u001B[0m     data \u001B[38;5;241m=\u001B[39m \u001B[38;5;28;43mself\u001B[39;49m\u001B[38;5;241;43m.\u001B[39;49m\u001B[43m_invoke_processors\u001B[49m\u001B[43m(\u001B[49m\n\u001B[1;32m   1096\u001B[0m \u001B[43m        \u001B[49m\u001B[43mtag\u001B[49m\u001B[43m,\u001B[49m\n\u001B[1;32m   1097\u001B[0m \u001B[43m        \u001B[49m\u001B[43mpass_many\u001B[49m\u001B[38;5;241;43m=\u001B[39;49m\u001B[38;5;28;43;01mFalse\u001B[39;49;00m\u001B[43m,\u001B[49m\n\u001B[1;32m   1098\u001B[0m \u001B[43m        \u001B[49m\u001B[43mdata\u001B[49m\u001B[38;5;241;43m=\u001B[39;49m\u001B[43mdata\u001B[49m\u001B[43m,\u001B[49m\n\u001B[1;32m   1099\u001B[0m \u001B[43m        \u001B[49m\u001B[43mmany\u001B[49m\u001B[38;5;241;43m=\u001B[39;49m\u001B[43mmany\u001B[49m\u001B[43m,\u001B[49m\n\u001B[1;32m   1100\u001B[0m \u001B[43m        \u001B[49m\u001B[43moriginal_data\u001B[49m\u001B[38;5;241;43m=\u001B[39;49m\u001B[43moriginal_data\u001B[49m\u001B[43m,\u001B[49m\n\u001B[1;32m   1101\u001B[0m \u001B[43m        \u001B[49m\u001B[43mpartial\u001B[49m\u001B[38;5;241;43m=\u001B[39;49m\u001B[43mpartial\u001B[49m\u001B[43m,\u001B[49m\n\u001B[1;32m   1102\u001B[0m \u001B[43m    \u001B[49m\u001B[43m)\u001B[49m\n\u001B[1;32m   1103\u001B[0m     \u001B[38;5;28;01mreturn\u001B[39;00m data\n",
      "File \u001B[0;32m~/Documents/pythonProjects/abacus/.venv/lib/python3.12/site-packages/marshmallow/schema.py:1222\u001B[0m, in \u001B[0;36mSchema._invoke_processors\u001B[0;34m(self, tag, pass_many, data, many, original_data, **kwargs)\u001B[0m\n\u001B[1;32m   1220\u001B[0m             data \u001B[38;5;241m=\u001B[39m processor(data, original_data, many\u001B[38;5;241m=\u001B[39mmany, \u001B[38;5;241m*\u001B[39m\u001B[38;5;241m*\u001B[39mkwargs)\n\u001B[1;32m   1221\u001B[0m         \u001B[38;5;28;01melse\u001B[39;00m:\n\u001B[0;32m-> 1222\u001B[0m             data \u001B[38;5;241m=\u001B[39m \u001B[43mprocessor\u001B[49m\u001B[43m(\u001B[49m\u001B[43mdata\u001B[49m\u001B[43m,\u001B[49m\u001B[43m \u001B[49m\u001B[43mmany\u001B[49m\u001B[38;5;241;43m=\u001B[39;49m\u001B[43mmany\u001B[49m\u001B[43m,\u001B[49m\u001B[43m \u001B[49m\u001B[38;5;241;43m*\u001B[39;49m\u001B[38;5;241;43m*\u001B[39;49m\u001B[43mkwargs\u001B[49m\u001B[43m)\u001B[49m\n\u001B[1;32m   1223\u001B[0m \u001B[38;5;28;01mreturn\u001B[39;00m data\n",
      "File \u001B[0;32m~/Documents/pythonProjects/abacus/.venv/lib/python3.12/site-packages/marshmallow_sqlalchemy/load_instance_mixin.py:76\u001B[0m, in \u001B[0;36mLoadInstanceMixin.Schema.make_instance\u001B[0;34m(self, data, **kwargs)\u001B[0m\n\u001B[1;32m     74\u001B[0m \u001B[38;5;28;01mif\u001B[39;00m \u001B[38;5;129;01mnot\u001B[39;00m \u001B[38;5;28mself\u001B[39m\u001B[38;5;241m.\u001B[39m_load_instance:\n\u001B[1;32m     75\u001B[0m     \u001B[38;5;28;01mreturn\u001B[39;00m data\n\u001B[0;32m---> 76\u001B[0m instance \u001B[38;5;241m=\u001B[39m \u001B[38;5;28mself\u001B[39m\u001B[38;5;241m.\u001B[39minstance \u001B[38;5;129;01mor\u001B[39;00m \u001B[38;5;28;43mself\u001B[39;49m\u001B[38;5;241;43m.\u001B[39;49m\u001B[43mget_instance\u001B[49m\u001B[43m(\u001B[49m\u001B[43mdata\u001B[49m\u001B[43m)\u001B[49m\n\u001B[1;32m     77\u001B[0m \u001B[38;5;28;01mif\u001B[39;00m instance \u001B[38;5;129;01mis\u001B[39;00m \u001B[38;5;129;01mnot\u001B[39;00m \u001B[38;5;28;01mNone\u001B[39;00m:\n\u001B[1;32m     78\u001B[0m     \u001B[38;5;28;01mfor\u001B[39;00m key, value \u001B[38;5;129;01min\u001B[39;00m data\u001B[38;5;241m.\u001B[39mitems():\n",
      "File \u001B[0;32m~/Documents/pythonProjects/abacus/.venv/lib/python3.12/site-packages/marshmallow_sqlalchemy/load_instance_mixin.py:60\u001B[0m, in \u001B[0;36mLoadInstanceMixin.Schema.get_instance\u001B[0;34m(self, data)\u001B[0m\n\u001B[1;32m     58\u001B[0m \u001B[38;5;28;01mif\u001B[39;00m \u001B[38;5;28;01mNone\u001B[39;00m \u001B[38;5;129;01mnot\u001B[39;00m \u001B[38;5;129;01min\u001B[39;00m filters\u001B[38;5;241m.\u001B[39mvalues():\n\u001B[1;32m     59\u001B[0m     \u001B[38;5;28;01mtry\u001B[39;00m:\n\u001B[0;32m---> 60\u001B[0m         \u001B[38;5;28;01mreturn\u001B[39;00m \u001B[38;5;28;43mself\u001B[39;49m\u001B[38;5;241;43m.\u001B[39;49m\u001B[43msession\u001B[49m\u001B[38;5;241;43m.\u001B[39;49m\u001B[43mget\u001B[49m(\u001B[38;5;28mself\u001B[39m\u001B[38;5;241m.\u001B[39mopts\u001B[38;5;241m.\u001B[39mmodel, filters)\n\u001B[1;32m     61\u001B[0m     \u001B[38;5;28;01mexcept\u001B[39;00m ObjectDeletedError:\n\u001B[1;32m     62\u001B[0m         \u001B[38;5;28;01mreturn\u001B[39;00m \u001B[38;5;28;01mNone\u001B[39;00m\n",
      "\u001B[0;31mAttributeError\u001B[0m: 'DummySession' object has no attribute 'get'"
     ]
    }
   ],
   "execution_count": 4
  },
  {
   "metadata": {
    "ExecuteTime": {
     "end_time": "2024-09-16T22:57:35.055007Z",
     "start_time": "2024-09-16T22:57:35.054955Z"
    }
   },
   "cell_type": "code",
   "source": "type(to)",
   "id": "b327b3588c43b110",
   "outputs": [],
   "execution_count": null
  },
  {
   "metadata": {},
   "cell_type": "code",
   "source": [
    "FLASK_APP=shapes.py\n",
    "DATABASE_NAME = abacus\n",
    "SQLITE_DATABASE_PATH=/${DATABASE_NAME}.db\n",
    "WHOSONFIRST_PATH = /Users/dug/projects/WhosOnFirstData/whosonfirst-data-admin-ca\n",
    "MAPBOX_MAP_ID = \"\"\n",
    "WOF_COUNTRIES = [\"CA\",\"US\"]\n",
    "WOF_DOWNLOAD_LINK = https://data.geocode.earth/wof/dist/sqlite/whosonfirst-data-admin-%s-latest.db.bz2\n",
    "WOF_DB_DIRECTORY = \"\"\n",
    "WOF_SQLITE_PATH = ${WOF_DB_DIRECTORY}wof.db"
   ],
   "id": "d7db2ce076a7e8d8",
   "outputs": [],
   "execution_count": null
  },
  {
   "metadata": {},
   "cell_type": "code",
   "outputs": [],
   "execution_count": null,
   "source": "",
   "id": "9410445882b36e6e"
  }
 ],
 "metadata": {
  "kernelspec": {
   "display_name": "Python 3",
   "language": "python",
   "name": "python3"
  },
  "language_info": {
   "codemirror_mode": {
    "name": "ipython",
    "version": 2
   },
   "file_extension": ".py",
   "mimetype": "text/x-python",
   "name": "python",
   "nbconvert_exporter": "python",
   "pygments_lexer": "ipython2",
   "version": "2.7.6"
  }
 },
 "nbformat": 4,
 "nbformat_minor": 5
}
