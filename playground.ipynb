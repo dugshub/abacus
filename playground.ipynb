{
 "cells": [
  {
   "cell_type": "code",
   "id": "initial_id",
   "metadata": {
    "collapsed": true,
    "ExecuteTime": {
     "end_time": "2024-09-21T16:45:31.124593Z",
     "start_time": "2024-09-21T16:45:30.809953Z"
    }
   },
   "source": [
    "from app import app,db\n",
    "from app.models import Shapefile, Neighbourhood\n",
    "import app.wof as wof"
   ],
   "outputs": [
    {
     "name": "stdout",
     "output_type": "stream",
     "text": [
      "Connected to sqlite:////Users/dug/projects/geoabacus/abacus.db\n"
     ]
    }
   ],
   "execution_count": 1
  },
  {
   "metadata": {
    "ExecuteTime": {
     "end_time": "2024-09-21T16:46:31.818274Z",
     "start_time": "2024-09-21T16:46:31.796526Z"
    }
   },
   "cell_type": "code",
   "source": "shapes = wof.get_related_placetypes(placetypes=('neighbourhood','locality','county','region','country'))\n",
   "id": "559fb7cea662bd82",
   "outputs": [],
   "execution_count": 6
  },
  {
   "metadata": {
    "ExecuteTime": {
     "end_time": "2024-09-21T16:46:32.218480Z",
     "start_time": "2024-09-21T16:46:32.216137Z"
    }
   },
   "cell_type": "code",
   "source": "print(len(shapes))",
   "id": "3930e8939f37c4ce",
   "outputs": [
    {
     "name": "stdout",
     "output_type": "stream",
     "text": [
      "140\n"
     ]
    }
   ],
   "execution_count": 7
  },
  {
   "metadata": {
    "ExecuteTime": {
     "end_time": "2024-09-21T16:36:03.915162Z",
     "start_time": "2024-09-21T16:36:03.914009Z"
    }
   },
   "cell_type": "code",
   "source": "    ",
   "id": "63e984edbdb8421a",
   "outputs": [],
   "execution_count": 3
  }
 ],
 "metadata": {
  "kernelspec": {
   "display_name": "Python 3",
   "language": "python",
   "name": "python3"
  },
  "language_info": {
   "codemirror_mode": {
    "name": "ipython",
    "version": 2
   },
   "file_extension": ".py",
   "mimetype": "text/x-python",
   "name": "python",
   "nbconvert_exporter": "python",
   "pygments_lexer": "ipython2",
   "version": "2.7.6"
  }
 },
 "nbformat": 4,
 "nbformat_minor": 5
}
